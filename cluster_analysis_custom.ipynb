{
 "cells": [
  {
   "cell_type": "markdown",
   "metadata": {},
   "source": [
    "[home](http://www.brandonrose.org)"
   ]
  },
  {
   "cell_type": "markdown",
   "metadata": {},
   "source": [
    "# Document Clustering with Python"
   ]
  },
  {
   "cell_type": "markdown",
   "metadata": {},
   "source": [
    "<img src='header_short.jpg'>\n",
    "\n",
    "In this guide, I will explain how to cluster a set of documents using Python. My motivating example is to identify the latent structures within the synopses of the top 100 films of all time (per an IMDB list). See [the original post](http://www.brandonrose.org/top100) for a more detailed discussion on the example. This guide covers:\n",
    "\n",
    "<ul>\n",
    "<li> tokenizing and stemming each synopsis\n",
    "<li> transforming the corpus into vector space using [tf-idf](http://en.wikipedia.org/wiki/Tf%E2%80%93idf)\n",
    "<li> calculating cosine distance between each document as a measure of similarity\n",
    "<li> clustering the documents using the [k-means algorithm](http://en.wikipedia.org/wiki/K-means_clustering)\n",
    "<li> using [multidimensional scaling](http://en.wikipedia.org/wiki/Multidimensional_scaling) to reduce dimensionality within the corpus\n",
    "<li> plotting the clustering output using [matplotlib](http://matplotlib.org/) and [mpld3](http://mpld3.github.io/)\n",
    "<li> conducting a hierarchical clustering on the corpus using [Ward clustering](http://en.wikipedia.org/wiki/Ward%27s_method)\n",
    "<li> plotting a Ward dendrogram\n",
    "<li> topic modeling using [Latent Dirichlet Allocation (LDA)](http://en.wikipedia.org/wiki/Latent_Dirichlet_allocation)\n",
    "</ul>"
   ]
  },
  {
   "cell_type": "code",
   "execution_count": 21,
   "metadata": {
    "collapsed": false
   },
   "outputs": [
    {
     "name": "stdout",
     "output_type": "stream",
     "text": [
      "1\n",
      "http://www.imdb.com/search/title?release_date=2017&sort=moviemeter,asc&page=1&ref_=adv_prv\n",
      "Request:1; Frequency: 0.0762837775644 requests/s\n",
      "2\n",
      "http://www.imdb.com/search/title?release_date=2017&sort=moviemeter,asc&page=2&ref_=adv_prv\n",
      "Request:2; Frequency: 0.0812622723729 requests/s\n"
     ]
    }
   ],
   "source": [
    "from bs4 import BeautifulSoup\n",
    "from time import sleep\n",
    "from random import randint\n",
    "from time import time\n",
    "from requests import get\n",
    "\n",
    "pages = [str(i) for i in range(1,3)]\n",
    "years_url = [str(i) for i in range(2017,2018)]\n",
    "\n",
    "names = []\n",
    "years = []\n",
    "imdb_ratings = []\n",
    "genres = []\n",
    "certificates = []\n",
    "descriptions = []\n",
    "gross = []\n",
    "\n",
    "#Preparing the monitoring of the loop\n",
    "start_time = time()\n",
    "requests = 0\n",
    "\n",
    "# For every year in the interval 2000-2017\n",
    "for year_url in years_url:\n",
    "\n",
    "    # For every page in the interval 1-4\n",
    "    for page in pages:\n",
    "        print(page)\n",
    "        \n",
    "        # Make a get request\n",
    "        #request_url='http://www.imdb.com/search/title?release_date=' + year_url + '&page=' + page\n",
    "        request_url = ('http://www.imdb.com/search/title?release_date='+ year_url +'&sort=moviemeter,asc&page=' + page + '&ref_=adv_prv')\n",
    "        print(request_url)\n",
    "        response = get(request_url)\n",
    "\n",
    "        # Pause the loop\n",
    "        sleep(randint(8,15))\n",
    "        \n",
    "        # Monitor the requests\n",
    "        requests += 1\n",
    "        elapsed_time = time() - start_time\n",
    "        print('Request:{}; Frequency: {} requests/s'.format(requests, requests/elapsed_time))\n",
    "        #clear_output(wait = True)\n",
    "        \n",
    "        # Throw a warning for non-200 status codes\n",
    "        if response.status_code != 200:\n",
    "            warn('Request: {}; Status code: {}'.format(requests, response.status_code))\n",
    "            \n",
    "        # Break the loop if the number of requests is greater than expected\n",
    "        if requests > 72:\n",
    "            warn('Number of requests was greater than expected.')  \n",
    "            break \n",
    "            \n",
    "        # Parse the content of the request with BeautifulSoup\n",
    "        page_html = BeautifulSoup(response.text, 'html.parser')\n",
    "        \n",
    "        # Select all the 50 movie containers from a single page\n",
    "        mv_containers = page_html.find_all('div', class_ = 'lister-item mode-advanced')\n",
    "\n",
    "        # For every movie of these 50\n",
    "        for container in mv_containers:\n",
    "            # If the movie has a Metascore, then:\n",
    "            #if container.find('div', class_ = 'ratings-metascore') is not None:\n",
    "                \n",
    "                # Scrape the name\n",
    "                name = container.h3.a.text\n",
    "                names.append(name)\n",
    "                \n",
    "                # Scrape the year \n",
    "                year = container.h3.find('span', class_ = 'lister-item-year').text\n",
    "                years.append((year))\n",
    "                \n",
    "               \n",
    "                      \n",
    "                #To gete Gross\n",
    "                raw_gross = container.find('span',attrs = {'class':'text-muted'})\n",
    "                #find_next('span',attrs = {'name':'nv'})\n",
    "                if raw_gross.text is not None and raw_gross.text == 'Gross:' :\n",
    "                    raw_gross_1 = raw_gross.find_next('span',attrs = {'name':'nv'})\n",
    "                    gross.append(raw_gross_1.text)\n",
    "                else:\n",
    "                    gross.append('') \n",
    "                \n",
    "                \n",
    "                #Certificate\n",
    "                certificate = container.find('span',class_='certificate')\n",
    "                if certificate is not None:\n",
    "                    certificates.append(certificate.text)\n",
    "                else:\n",
    "                    certificates.append('')\n",
    "                    \n",
    "                # Scrape the description\n",
    "                description1 = container.find('div',class_='ratings-bar')\n",
    "                if description1 is not None:\n",
    "                    description= description1.find_next('p',class_ = 'text-muted').text\n",
    "                    descriptions.append(description.strip())\n",
    "                else:\n",
    "                    descriptions.append('')\n",
    "                           \n",
    "                \n",
    "                # Scrape the genre\n",
    "                genre_1 = container.find('span',class_ ='genre')\n",
    "                if genre_1 is not None:\n",
    "                    genres.append(genre_1.text.strip())\n",
    "                else:\n",
    "                    genres.append('')\n",
    "                \n",
    "                         \n",
    "\n",
    "                \n",
    "                # Scrape the IMDB rating\n",
    "                #print(float(container.find('div',class_='inline-block ratings-imdb-rating')['data-value']))\n",
    "                imdb_raw = container.find('div',class_='inline-block ratings-imdb-rating')\n",
    "                if imdb_raw is not None:\n",
    "                        imdb = float(container.strong.text)\n",
    "                        imdb_ratings.append((imdb))\n",
    "                    \n",
    "                else:\n",
    "#                     imdb_ratings = []\n",
    "                    imdb_ratings.append(0.0)\n",
    "                \n",
    "                \n",
    "                       \n",
    "                \n",
    "                "
   ]
  },
  {
   "cell_type": "code",
   "execution_count": 22,
   "metadata": {
    "collapsed": true
   },
   "outputs": [],
   "source": [
    "titles=[]\n",
    "synopses_wiki=[]"
   ]
  },
  {
   "cell_type": "code",
   "execution_count": 23,
   "metadata": {
    "collapsed": true
   },
   "outputs": [],
   "source": [
    "for name in names:\n",
    "    titles.append(name)"
   ]
  },
  {
   "cell_type": "code",
   "execution_count": 24,
   "metadata": {
    "collapsed": true
   },
   "outputs": [],
   "source": [
    "for description in descriptions:\n",
    "    synopses_wiki.append(description)"
   ]
  },
  {
   "cell_type": "code",
   "execution_count": null,
   "metadata": {
    "collapsed": true
   },
   "outputs": [],
   "source": []
  },
  {
   "cell_type": "code",
   "execution_count": null,
   "metadata": {
    "collapsed": true
   },
   "outputs": [],
   "source": []
  },
  {
   "cell_type": "markdown",
   "metadata": {},
   "source": [
    "## Contents"
   ]
  },
  {
   "cell_type": "markdown",
   "metadata": {},
   "source": [
    "<ul>\n",
    "<li>[Stopwords, stemming, and tokenization](#Stopwords,-stemming,-and-tokenizing)\n",
    "<li>[Tf-idf and document similarity](#Tf-idf-and-document-similarity)\n",
    "<li>[K-means clustering](#K-means-clustering)\n",
    "<li>[Multidimensional scaling](#Multidimensional-scaling)\n",
    "<li>[Visualizing document clusters](#Visualizing-document-clusters)\n",
    "<li>[Hierarchical document clustering](#Hierarchical-document-clustering)\n",
    "<li>[Latent Dirichlet Allocation (LDA)](#Latent-Dirichlet-Allocation)\n",
    "</ul>"
   ]
  },
  {
   "cell_type": "markdown",
   "metadata": {},
   "source": [
    "But first, I import everything I am going to need up front"
   ]
  },
  {
   "cell_type": "code",
   "execution_count": 28,
   "metadata": {
    "collapsed": false
   },
   "outputs": [],
   "source": [
    "import numpy as np\n",
    "import pandas as pd\n",
    "import nltk\n",
    "from bs4 import BeautifulSoup\n",
    "import re\n",
    "import os\n",
    "import codecs\n",
    "from sklearn import feature_extraction\n",
    "import mpld3\n",
    "\n",
    "#nltk.download('punkt')\n",
    "#nltk.download('stopwords')\n"
   ]
  },
  {
   "cell_type": "markdown",
   "metadata": {},
   "source": [
    "# Stopwords, stemming, and tokenizing"
   ]
  },
  {
   "cell_type": "code",
   "execution_count": null,
   "metadata": {
    "collapsed": true
   },
   "outputs": [],
   "source": []
  },
  {
   "cell_type": "code",
   "execution_count": null,
   "metadata": {
    "collapsed": false
   },
   "outputs": [],
   "source": []
  },
  {
   "cell_type": "code",
   "execution_count": 7,
   "metadata": {
    "collapsed": false
   },
   "outputs": [
    {
     "name": "stdout",
     "output_type": "stream",
     "text": [
      "100 titles\n",
      "100 links\n",
      "100 synopses\n",
      "100 genres\n"
     ]
    }
   ],
   "source": [
    "#import three lists: titles, links and wikipedia synopses\n",
    "titles = open('title_list.txt').read().split('\\n')\n",
    "#ensures that only the first 100 are read in\n",
    "titles = titles[:100]\n",
    "\n",
    "links = open('link_list_imdb.txt').read().split('\\n')\n",
    "links = links[:100]\n",
    "\n",
    "synopses_wiki = open('synopses_list_wiki.txt').read().split('\\n BREAKS HERE')\n",
    "synopses_wiki = synopses_wiki[:100]\n",
    "\n",
    "synopses_clean_wiki = []\n",
    "for text in synopses_wiki:\n",
    "    text = BeautifulSoup(text, 'html.parser').getText()\n",
    "    #strips html formatting and converts to unicode\n",
    "    synopses_clean_wiki.append(text)\n",
    "\n",
    "synopses_wiki = synopses_clean_wiki\n",
    "    \n",
    "    \n",
    "genres = open('genres_list.txt').read().split('\\n')\n",
    "genres = genres[:100]\n",
    "\n",
    "print(str(len(titles)) + ' titles')\n",
    "print(str(len(links)) + ' links')\n",
    "print(str(len(synopses_wiki)) + ' synopses')\n",
    "print(str(len(genres)) + ' genres')"
   ]
  },
  {
   "cell_type": "code",
   "execution_count": null,
   "metadata": {
    "collapsed": true
   },
   "outputs": [],
   "source": []
  },
  {
   "cell_type": "code",
   "execution_count": 29,
   "metadata": {
    "collapsed": false
   },
   "outputs": [
    {
     "name": "stdout",
     "output_type": "stream",
     "text": [
      "100 titles\n",
      "100 links\n",
      "100 synopses\n",
      "100 genres\n"
     ]
    }
   ],
   "source": [
    "print(str(len(titles)) + ' titles')\n",
    "print(str(len(links)) + ' links')\n",
    "print(str(len(synopses_wiki)) + ' synopses')\n",
    "print(str(len(genres)) + ' genres')"
   ]
  },
  {
   "cell_type": "code",
   "execution_count": null,
   "metadata": {
    "collapsed": true
   },
   "outputs": [],
   "source": []
  },
  {
   "cell_type": "code",
   "execution_count": null,
   "metadata": {
    "collapsed": true
   },
   "outputs": [],
   "source": []
  },
  {
   "cell_type": "code",
   "execution_count": 30,
   "metadata": {
    "collapsed": false
   },
   "outputs": [],
   "source": [
    "synopses_imdb = open('synopses_list_imdb.txt').read().split('\\n BREAKS HERE')\n",
    "synopses_imdb = synopses_imdb[:100]\n",
    "\n",
    "synopses_clean_imdb = []\n",
    "\n",
    "for text in synopses_imdb:\n",
    "    text = BeautifulSoup(text, 'html.parser').getText()\n",
    "    #strips html formatting and converts to unicode\n",
    "    synopses_clean_imdb.append(text)\n",
    "\n",
    "synopses_imdb = synopses_clean_imdb"
   ]
  },
  {
   "cell_type": "code",
   "execution_count": 31,
   "metadata": {
    "collapsed": false
   },
   "outputs": [],
   "source": [
    "synopses = []\n",
    "\n",
    "for i in range(len(synopses_wiki)):\n",
    "    item = synopses_wiki[i] + synopses_imdb[i]\n",
    "    synopses.append(item)"
   ]
  },
  {
   "cell_type": "code",
   "execution_count": 32,
   "metadata": {
    "collapsed": false
   },
   "outputs": [],
   "source": [
    "# generates index for each item in the corpora (in this case it's just rank) and I'll use this for scoring later\n",
    "ranks = []\n",
    "\n",
    "for i in range(0,len(titles)):\n",
    "    ranks.append(i)"
   ]
  },
  {
   "cell_type": "markdown",
   "metadata": {},
   "source": [
    "This section is focused on defining some functions to manipulate the synopses. First, I load [NLTK's](http://www.nltk.org/) list of English stop words. [Stop words](http://en.wikipedia.org/wiki/Stop_words) are words like \"a\", \"the\", or \"in\" which don't convey significant meaning. I'm sure there are much better explanations of this out there."
   ]
  },
  {
   "cell_type": "code",
   "execution_count": 33,
   "metadata": {
    "collapsed": false
   },
   "outputs": [],
   "source": [
    "# load nltk's English stopwords as variable called 'stopwords'\n",
    "stopwords = nltk.corpus.stopwords.words('english')"
   ]
  },
  {
   "cell_type": "markdown",
   "metadata": {},
   "source": [
    "Next I import the [Snowball Stemmer](http://snowball.tartarus.org/) which is actually part of NLTK. [Stemming](http://en.wikipedia.org/wiki/Stemming) is just the process of breaking a word down into its root."
   ]
  },
  {
   "cell_type": "code",
   "execution_count": 34,
   "metadata": {
    "collapsed": false
   },
   "outputs": [],
   "source": [
    "# load nltk's SnowballStemmer as variabled 'stemmer'\n",
    "from nltk.stem.snowball import SnowballStemmer\n",
    "stemmer = SnowballStemmer(\"english\")"
   ]
  },
  {
   "cell_type": "markdown",
   "metadata": {},
   "source": [
    "\n",
    "Below I define two functions:\n",
    "\n",
    "<ul>\n",
    "<li> *tokenize_and_stem*: tokenizes (splits the synopsis into a list of its respective words (or tokens) and also stems each token <li> *tokenize_only*: tokenizes the synopsis only\n",
    "</ul>\n",
    "\n",
    "I use both these functions to create a dictionary which becomes important in case I want to use stems for an algorithm, but later convert stems back to their full words for presentation purposes. Guess what, I do want to do that!\n",
    "\n"
   ]
  },
  {
   "cell_type": "code",
   "execution_count": 35,
   "metadata": {
    "collapsed": false
   },
   "outputs": [],
   "source": [
    "# here I define a tokenizer and stemmer which returns the set of stems in the text that it is passed\n",
    "\n",
    "def tokenize_and_stem(text):\n",
    "    # first tokenize by sentence, then by word to ensure that punctuation is caught as it's own token\n",
    "    tokens = [word for sent in nltk.sent_tokenize(text) for word in nltk.word_tokenize(sent)]\n",
    "    filtered_tokens = []\n",
    "    # filter out any tokens not containing letters (e.g., numeric tokens, raw punctuation)\n",
    "    for token in tokens:\n",
    "        if re.search('[a-zA-Z]', token):\n",
    "            filtered_tokens.append(token)\n",
    "    stems = [stemmer.stem(t) for t in filtered_tokens]\n",
    "    return stems\n",
    "\n",
    "\n",
    "def tokenize_only(text):\n",
    "    # first tokenize by sentence, then by word to ensure that punctuation is caught as it's own token\n",
    "    tokens = [word.lower() for sent in nltk.sent_tokenize(text) for word in nltk.word_tokenize(sent)]\n",
    "    filtered_tokens = []\n",
    "    # filter out any tokens not containing letters (e.g., numeric tokens, raw punctuation)\n",
    "    for token in tokens:\n",
    "        if re.search('[a-zA-Z]', token):\n",
    "            filtered_tokens.append(token)\n",
    "    return filtered_tokens"
   ]
  },
  {
   "cell_type": "markdown",
   "metadata": {},
   "source": [
    "Below I use my stemming/tokenizing and tokenizing functions to iterate over the list of synopses to create two vocabularies: one stemmed and one only tokenized. "
   ]
  },
  {
   "cell_type": "code",
   "execution_count": 36,
   "metadata": {
    "collapsed": false
   },
   "outputs": [],
   "source": [
    "totalvocab_stemmed = []\n",
    "totalvocab_tokenized = []\n",
    "for i in synopses:\n",
    "    allwords_stemmed = tokenize_and_stem(i)\n",
    "    totalvocab_stemmed.extend(allwords_stemmed)\n",
    "    \n",
    "    allwords_tokenized = tokenize_only(i)\n",
    "    totalvocab_tokenized.extend(allwords_tokenized)"
   ]
  },
  {
   "cell_type": "markdown",
   "metadata": {},
   "source": [
    "Using these two lists, I create a pandas DataFrame with the stemmed vocabulary as the index and the tokenized words as the column. The benefit of this is it provides an efficient way to look up a stem and return a full token. The downside here is that stems to tokens are one to many: the stem 'run' could be associated with 'ran', 'runs', 'running', etc. For my purposes this is fine--I'm perfectly happy returning the first token associated with the stem I need to look up."
   ]
  },
  {
   "cell_type": "code",
   "execution_count": 37,
   "metadata": {
    "collapsed": false
   },
   "outputs": [],
   "source": [
    "vocab_frame = pd.DataFrame({'words': totalvocab_tokenized}, index = totalvocab_stemmed)"
   ]
  },
  {
   "cell_type": "markdown",
   "metadata": {},
   "source": [
    "## Tf-idf and document similarity"
   ]
  },
  {
   "cell_type": "markdown",
   "metadata": {},
   "source": [
    "<img src='http://www.jiem.org/index.php/jiem/article/viewFile/293/252/2402' align='right' style=\"margin-left:10px\">\n",
    "\n",
    "Here, I define term frequency-inverse document frequency (tf-idf) vectorizer parameters and then convert the *synopses* list into a tf-idf matrix. \n",
    "\n",
    "To get a Tf-idf matrix, first count word occurrences by document. This is transformed into a document-term matrix (dtm). This is also just called a term frequency matrix. An example of a dtm is here at right.\n",
    "\n",
    "Then apply the term frequency-inverse document frequency weighting: words that occur frequently within a document but not frequently within the corpus receive a higher weighting as these words are assumed to contain more meaning in relation to the document.\n",
    "\n",
    "A couple things to note about the parameters I define below:\n",
    "\n",
    "<ul>\n",
    "<li> max_df: this is the maximum frequency within the documents a given feature can have to be used in the tfi-idf matrix. If the term is in greater than 80% of the documents it probably cares little meanining (in the context of film synopses)\n",
    "<li> min_idf: this could be an integer (e.g. 5) and the term would have to be in at least 5 of the documents to be considered. Here I pass 0.2; the term must be in at least 20% of the document. I found that if I allowed a lower min_df I ended up basing clustering on names--for example \"Michael\" or \"Tom\" are names found in several of the movies and the synopses use these names frequently, but the names carry no real meaning.\n",
    "<li> ngram_range: this just means I'll look at unigrams, bigrams and trigrams. See [n-grams](http://en.wikipedia.org/wiki/N-gram)\n",
    "</ul>"
   ]
  },
  {
   "cell_type": "code",
   "execution_count": 38,
   "metadata": {
    "collapsed": false
   },
   "outputs": [
    {
     "name": "stdout",
     "output_type": "stream",
     "text": [
      "CPU times: user 5.59 s, sys: 80.5 ms, total: 5.67 s\n",
      "Wall time: 5.67 s\n",
      "(100, 387)\n"
     ]
    }
   ],
   "source": [
    "from sklearn.feature_extraction.text import TfidfVectorizer\n",
    "\n",
    "tfidf_vectorizer = TfidfVectorizer(max_df=0.8, max_features=200000,\n",
    "                                 min_df=0.2, stop_words='english',\n",
    "                                 use_idf=True, tokenizer=tokenize_and_stem, ngram_range=(1,3))\n",
    "\n",
    "%time tfidf_matrix = tfidf_vectorizer.fit_transform(synopses)\n",
    "\n",
    "print(tfidf_matrix.shape)"
   ]
  },
  {
   "cell_type": "code",
   "execution_count": 39,
   "metadata": {
    "collapsed": false
   },
   "outputs": [],
   "source": [
    "terms = tfidf_vectorizer.get_feature_names()"
   ]
  },
  {
   "cell_type": "code",
   "execution_count": 40,
   "metadata": {
    "collapsed": false
   },
   "outputs": [],
   "source": [
    "from sklearn.metrics.pairwise import cosine_similarity\n",
    "dist = 1 - cosine_similarity(tfidf_matrix)"
   ]
  },
  {
   "cell_type": "markdown",
   "metadata": {},
   "source": [
    "# K-means clustering"
   ]
  },
  {
   "cell_type": "markdown",
   "metadata": {},
   "source": [
    "Now onto the fun part. Using the tf-idf matrix, you can run a slew of clustering algorithms to better understand the hidden structure within the synopses. I first chose [k-means](http://en.wikipedia.org/wiki/K-means_clustering). K-means initializes with a pre-determined number of clusters (I chose 5). Each observation is assigned to a cluster (cluster assignment) so as to minimize the within cluster sum of squares. Next, the mean of the clustered observations is calculated and used as the new cluster centroid. Then, observations are reassigned to clusters and  centroids recalculated in an iterative process until the algorithm reaches convergence.\n",
    "\n",
    "I found it took several runs for the algorithm to converge a global optimum as k-means is susceptible to reaching local optima. "
   ]
  },
  {
   "cell_type": "code",
   "execution_count": 41,
   "metadata": {
    "collapsed": false
   },
   "outputs": [
    {
     "name": "stdout",
     "output_type": "stream",
     "text": [
      "CPU times: user 78 ms, sys: 2.42 ms, total: 80.4 ms\n",
      "Wall time: 81.7 ms\n"
     ]
    }
   ],
   "source": [
    "from sklearn.cluster import KMeans\n",
    "\n",
    "num_clusters = 5\n",
    "\n",
    "km = KMeans(n_clusters=num_clusters)\n",
    "\n",
    "%time km.fit(tfidf_matrix)\n",
    "\n",
    "clusters = km.labels_.tolist()"
   ]
  },
  {
   "cell_type": "code",
   "execution_count": 42,
   "metadata": {
    "collapsed": false
   },
   "outputs": [],
   "source": [
    "from sklearn.externals import joblib\n",
    "\n",
    "#joblib.dump(km,  'doc_cluster.pkl')\n",
    "km = joblib.load('doc_cluster.pkl')\n",
    "clusters = km.labels_.tolist()"
   ]
  },
  {
   "cell_type": "code",
   "execution_count": 43,
   "metadata": {
    "collapsed": false
   },
   "outputs": [],
   "source": [
    "import pandas as pd\n",
    "\n",
    "films = { 'title': titles, 'rank': ranks, 'synopsis': synopses, 'cluster': clusters, 'genre': genres }\n",
    "\n",
    "frame = pd.DataFrame(films, index = [clusters] , columns = ['rank', 'title', 'cluster', 'genre'])"
   ]
  },
  {
   "cell_type": "code",
   "execution_count": 44,
   "metadata": {
    "collapsed": false
   },
   "outputs": [
    {
     "data": {
      "text/plain": [
       "4    26\n",
       "0    25\n",
       "2    21\n",
       "1    16\n",
       "3    12\n",
       "dtype: int64"
      ]
     },
     "execution_count": 44,
     "metadata": {},
     "output_type": "execute_result"
    }
   ],
   "source": [
    "frame['cluster'].value_counts()"
   ]
  },
  {
   "cell_type": "code",
   "execution_count": 45,
   "metadata": {
    "collapsed": false
   },
   "outputs": [
    {
     "data": {
      "text/plain": [
       "cluster\n",
       "0    47.200000\n",
       "1    58.875000\n",
       "2    49.380952\n",
       "3    54.500000\n",
       "4    43.730769\n",
       "Name: rank, dtype: float64"
      ]
     },
     "execution_count": 45,
     "metadata": {},
     "output_type": "execute_result"
    }
   ],
   "source": [
    "grouped = frame['rank'].groupby(frame['cluster'])\n",
    "\n",
    "grouped.mean()"
   ]
  },
  {
   "cell_type": "code",
   "execution_count": 46,
   "metadata": {
    "collapsed": false
   },
   "outputs": [
    {
     "name": "stdout",
     "output_type": "stream",
     "text": [
      "Top terms per cluster:\n",
      "\n",
      "Cluster 0 words: like, party, start,"
     ]
    },
    {
     "ename": "IndexError",
     "evalue": "list index out of range",
     "output_type": "error",
     "traceback": [
      "\u001b[0;31m---------------------------------------------------------------------------\u001b[0m",
      "\u001b[0;31mIndexError\u001b[0m                                Traceback (most recent call last)",
      "\u001b[0;32m<ipython-input-46-01ddcd5bfae4>\u001b[0m in \u001b[0;36m<module>\u001b[0;34m()\u001b[0m\n\u001b[1;32m      7\u001b[0m     \u001b[0;32mprint\u001b[0m\u001b[0;34m(\u001b[0m\u001b[0;34m\"Cluster %d words:\"\u001b[0m \u001b[0;34m%\u001b[0m \u001b[0mi\u001b[0m\u001b[0;34m,\u001b[0m \u001b[0mend\u001b[0m\u001b[0;34m=\u001b[0m\u001b[0;34m''\u001b[0m\u001b[0;34m)\u001b[0m\u001b[0;34m\u001b[0m\u001b[0m\n\u001b[1;32m      8\u001b[0m     \u001b[0;32mfor\u001b[0m \u001b[0mind\u001b[0m \u001b[0;32min\u001b[0m \u001b[0morder_centroids\u001b[0m\u001b[0;34m[\u001b[0m\u001b[0mi\u001b[0m\u001b[0;34m,\u001b[0m \u001b[0;34m:\u001b[0m\u001b[0;36m6\u001b[0m\u001b[0;34m]\u001b[0m\u001b[0;34m:\u001b[0m\u001b[0;34m\u001b[0m\u001b[0m\n\u001b[0;32m----> 9\u001b[0;31m         \u001b[0;32mprint\u001b[0m\u001b[0;34m(\u001b[0m\u001b[0;34m' %s'\u001b[0m \u001b[0;34m%\u001b[0m \u001b[0mvocab_frame\u001b[0m\u001b[0;34m.\u001b[0m\u001b[0mix\u001b[0m\u001b[0;34m[\u001b[0m\u001b[0mterms\u001b[0m\u001b[0;34m[\u001b[0m\u001b[0mind\u001b[0m\u001b[0;34m]\u001b[0m\u001b[0;34m.\u001b[0m\u001b[0msplit\u001b[0m\u001b[0;34m(\u001b[0m\u001b[0;34m' '\u001b[0m\u001b[0;34m)\u001b[0m\u001b[0;34m]\u001b[0m\u001b[0;34m.\u001b[0m\u001b[0mvalues\u001b[0m\u001b[0;34m.\u001b[0m\u001b[0mtolist\u001b[0m\u001b[0;34m(\u001b[0m\u001b[0;34m)\u001b[0m\u001b[0;34m[\u001b[0m\u001b[0;36m0\u001b[0m\u001b[0;34m]\u001b[0m\u001b[0;34m[\u001b[0m\u001b[0;36m0\u001b[0m\u001b[0;34m]\u001b[0m\u001b[0;34m.\u001b[0m\u001b[0mencode\u001b[0m\u001b[0;34m(\u001b[0m\u001b[0;34m'utf-8'\u001b[0m\u001b[0;34m,\u001b[0m \u001b[0;34m'ignore'\u001b[0m\u001b[0;34m)\u001b[0m\u001b[0;34m,\u001b[0m \u001b[0mend\u001b[0m\u001b[0;34m=\u001b[0m\u001b[0;34m','\u001b[0m\u001b[0;34m)\u001b[0m\u001b[0;34m\u001b[0m\u001b[0m\n\u001b[0m\u001b[1;32m     10\u001b[0m     \u001b[0;32mprint\u001b[0m\u001b[0;34m(\u001b[0m\u001b[0;34m)\u001b[0m\u001b[0;34m\u001b[0m\u001b[0m\n\u001b[1;32m     11\u001b[0m     \u001b[0;32mprint\u001b[0m\u001b[0;34m(\u001b[0m\u001b[0;34m)\u001b[0m\u001b[0;34m\u001b[0m\u001b[0m\n",
      "\u001b[0;31mIndexError\u001b[0m: list index out of range"
     ]
    }
   ],
   "source": [
    "from __future__ import print_function\n",
    "\n",
    "print(\"Top terms per cluster:\")\n",
    "print()\n",
    "order_centroids = km.cluster_centers_.argsort()[:, ::-1]\n",
    "for i in range(num_clusters):\n",
    "    print(\"Cluster %d words:\" % i, end='')\n",
    "    for ind in order_centroids[i, :6]:\n",
    "        print(' %s' % vocab_frame.ix[terms[ind].split(' ')].values.tolist()[0][0].encode('utf-8', 'ignore'), end=',')\n",
    "    print()\n",
    "    print()\n",
    "    print(\"Cluster %d titles:\" % i, end='')\n",
    "    for title in frame.ix[i]['title'].values.tolist():\n",
    "        print(' %s,' % title, end='')\n",
    "    print()\n",
    "    print()"
   ]
  },
  {
   "cell_type": "code",
   "execution_count": 47,
   "metadata": {
    "collapsed": false
   },
   "outputs": [],
   "source": [
    "#This is purely to help export tables to html and to correct for my 0 start rank (so that Godfather is 1, not 0)\n",
    "frame['Rank'] = frame['rank'] + 1\n",
    "frame['Title'] = frame['title']"
   ]
  },
  {
   "cell_type": "code",
   "execution_count": 48,
   "metadata": {
    "collapsed": false
   },
   "outputs": [
    {
     "name": "stdout",
     "output_type": "stream",
     "text": [
      "<table border=\"1\" class=\"dataframe\">\n",
      "  <thead>\n",
      "    <tr style=\"text-align: right;\">\n",
      "      <th>Rank</th>\n",
      "      <th>Title</th>\n",
      "    </tr>\n",
      "  </thead>\n",
      "  <tbody>\n",
      "    <tr>\n",
      "      <td>5</td>\n",
      "      <td>I Kill Giants</td>\n",
      "    </tr>\n",
      "    <tr>\n",
      "      <td>13</td>\n",
      "      <td>Pitch Perfect 3</td>\n",
      "    </tr>\n",
      "    <tr>\n",
      "      <td>14</td>\n",
      "      <td>La casa de papel</td>\n",
      "    </tr>\n",
      "    <tr>\n",
      "      <td>15</td>\n",
      "      <td>Molly's Game</td>\n",
      "    </tr>\n",
      "    <tr>\n",
      "      <td>24</td>\n",
      "      <td>Wonder Woman</td>\n",
      "    </tr>\n",
      "    <tr>\n",
      "      <td>31</td>\n",
      "      <td>Get Out</td>\n",
      "    </tr>\n",
      "    <tr>\n",
      "      <td>57</td>\n",
      "      <td>Transformers: The Last Knight</td>\n",
      "    </tr>\n",
      "    <tr>\n",
      "      <td>64</td>\n",
      "      <td>Logan</td>\n",
      "    </tr>\n",
      "    <tr>\n",
      "      <td>77</td>\n",
      "      <td>Mother!</td>\n",
      "    </tr>\n",
      "    <tr>\n",
      "      <td>87</td>\n",
      "      <td>King Arthur: Legend of the Sword</td>\n",
      "    </tr>\n",
      "    <tr>\n",
      "      <td>91</td>\n",
      "      <td>Godless</td>\n",
      "    </tr>\n",
      "    <tr>\n",
      "      <td>92</td>\n",
      "      <td>Iron Fist</td>\n",
      "    </tr>\n",
      "    <tr>\n",
      "      <td>95</td>\n",
      "      <td>Runaways</td>\n",
      "    </tr>\n",
      "    <tr>\n",
      "      <td>96</td>\n",
      "      <td>Going in Style</td>\n",
      "    </tr>\n",
      "    <tr>\n",
      "      <td>98</td>\n",
      "      <td>Tabula Rasa</td>\n",
      "    </tr>\n",
      "    <tr>\n",
      "      <td>99</td>\n",
      "      <td>Geostorm</td>\n",
      "    </tr>\n",
      "  </tbody>\n",
      "</table>\n"
     ]
    }
   ],
   "source": [
    "#export tables to HTML\n",
    "print(frame[['Rank', 'Title']].loc[frame['cluster'] == 1].to_html(index=False))"
   ]
  },
  {
   "cell_type": "markdown",
   "metadata": {},
   "source": [
    "# Multidimensional scaling"
   ]
  },
  {
   "cell_type": "code",
   "execution_count": 49,
   "metadata": {
    "collapsed": false
   },
   "outputs": [],
   "source": [
    "import os  # for os.path.basename\n",
    "\n",
    "import matplotlib.pyplot as plt\n",
    "import matplotlib as mpl\n",
    "\n",
    "from sklearn.manifold import MDS\n",
    "\n",
    "MDS()\n",
    "\n",
    "# two components as we're plotting points in a two-dimensional plane\n",
    "# \"precomputed\" because we provide a distance matrix\n",
    "# we will also specify `random_state` so the plot is reproducible.\n",
    "mds = MDS(n_components=2, dissimilarity=\"precomputed\", random_state=1)\n",
    "\n",
    "pos = mds.fit_transform(dist)  # shape (n_components, n_samples)\n",
    "\n",
    "xs, ys = pos[:, 0], pos[:, 1]"
   ]
  },
  {
   "cell_type": "code",
   "execution_count": 50,
   "metadata": {
    "collapsed": false
   },
   "outputs": [],
   "source": [
    "#strip any proper nouns (NNP) or plural proper nouns (NNPS) from a text\n",
    "from nltk.tag import pos_tag\n",
    "\n",
    "def strip_proppers_POS(text):\n",
    "    tagged = pos_tag(text.split()) #use NLTK's part of speech tagger\n",
    "    non_propernouns = [word for word,pos in tagged if pos != 'NNP' and pos != 'NNPS']\n",
    "    return non_propernouns"
   ]
  },
  {
   "cell_type": "markdown",
   "metadata": {},
   "source": [
    "## Visualizing document clusters"
   ]
  },
  {
   "cell_type": "code",
   "execution_count": 51,
   "metadata": {
    "collapsed": false
   },
   "outputs": [],
   "source": [
    "#set up colors per clusters using a dict\n",
    "cluster_colors = {0: '#1b9e77', 1: '#d95f02', 2: '#7570b3', 3: '#e7298a', 4: '#66a61e'}\n",
    "\n",
    "#set up cluster names using a dict\n",
    "cluster_names = {0: 'Family, home, war', \n",
    "                 1: 'Police, killed, murders', \n",
    "                 2: 'Father, New York, brothers', \n",
    "                 3: 'Dance, singing, love', \n",
    "                 4: 'Killed, soldiers, captain'}"
   ]
  },
  {
   "cell_type": "code",
   "execution_count": 52,
   "metadata": {
    "collapsed": false
   },
   "outputs": [],
   "source": [
    "%matplotlib inline"
   ]
  },
  {
   "cell_type": "code",
   "execution_count": 53,
   "metadata": {
    "collapsed": false
   },
   "outputs": [
    {
     "data": {
      "image/png": "[encoded data removed]",
      "text/plain": [
       "<matplotlib.figure.Figure at 0x10c2fe250>"
      ]
     },
     "metadata": {},
     "output_type": "display_data"
    }
   ],
   "source": [
    "#create data frame that has the result of the MDS plus the cluster numbers and titles\n",
    "df = pd.DataFrame(dict(x=xs, y=ys, label=clusters, title=titles)) \n",
    "\n",
    "#group by cluster\n",
    "groups = df.groupby('label')\n",
    "\n",
    "\n",
    "# set up plot\n",
    "fig, ax = plt.subplots(figsize=(17, 9)) # set size\n",
    "ax.margins(0.05) # Optional, just adds 5% padding to the autoscaling\n",
    "\n",
    "#iterate through groups to layer the plot\n",
    "#note that I use the cluster_name and cluster_color dicts with the 'name' lookup to return the appropriate color/label\n",
    "for name, group in groups:\n",
    "    ax.plot(group.x, group.y, marker='o', linestyle='', ms=12, label=cluster_names[name], color=cluster_colors[name], mec='none')\n",
    "    ax.set_aspect('auto')\n",
    "    ax.tick_params(\\\n",
    "        axis= 'x',          # changes apply to the x-axis\n",
    "        which='both',      # both major and minor ticks are affected\n",
    "        bottom='off',      # ticks along the bottom edge are off\n",
    "        top='off',         # ticks along the top edge are off\n",
    "        labelbottom='off')\n",
    "    ax.tick_params(\\\n",
    "        axis= 'y',         # changes apply to the y-axis\n",
    "        which='both',      # both major and minor ticks are affected\n",
    "        left='off',      # ticks along the bottom edge are off\n",
    "        top='off',         # ticks along the top edge are off\n",
    "        labelleft='off')\n",
    "    \n",
    "ax.legend(numpoints=1)  #show legend with only 1 point\n",
    "\n",
    "#add label in x,y position with the label as the film title\n",
    "for i in range(len(df)):\n",
    "    ax.text(df.ix[i]['x'], df.ix[i]['y'], df.ix[i]['title'], size=8)  \n",
    "\n",
    "    \n",
    "    \n",
    "plt.show() #show the plot\n",
    "\n",
    "#uncomment the below to save the plot if need be\n",
    "#plt.savefig('clusters_small_noaxes.png', dpi=200)"
   ]
  },
  {
   "cell_type": "code",
   "execution_count": 54,
   "metadata": {
    "collapsed": false
   },
   "outputs": [],
   "source": [
    "plt.close()"
   ]
  },
  {
   "cell_type": "markdown",
   "metadata": {},
   "source": [
    "The clustering plot looks great, but it pains my eyes to see overlapping labels. Having some experience with [D3.js](http://d3js.org/) I knew one solution would be to use a browser based/javascript interactive. Fortunately, I recently stumbled upon [mpld3](https://mpld3.github.io/) a matplotlib wrapper for D3. Mpld3 basically let's you use matplotlib syntax to create web interactives. It has a really easy, high-level API for adding tooltips on mouse hover, which is what I am interested in.\n",
    "\n",
    "It also has some nice functionality for zooming and panning. The below javascript snippet basicaly defines a custom location for where the zoom/pan toggle resides. Don't worry about it too much and you actually don't need to use it, but it helped for formatting purposes when exporting to the web later. The only thing you might want to change is the x and y attr for the position of the toolbar."
   ]
  },
  {
   "cell_type": "code",
   "execution_count": 55,
   "metadata": {
    "collapsed": false
   },
   "outputs": [],
   "source": [
    "#define custom toolbar location\n",
    "class TopToolbar(mpld3.plugins.PluginBase):\n",
    "    \"\"\"Plugin for moving toolbar to top of figure\"\"\"\n",
    "\n",
    "    JAVASCRIPT = \"\"\"\n",
    "    mpld3.register_plugin(\"toptoolbar\", TopToolbar);\n",
    "    TopToolbar.prototype = Object.create(mpld3.Plugin.prototype);\n",
    "    TopToolbar.prototype.constructor = TopToolbar;\n",
    "    function TopToolbar(fig, props){\n",
    "        mpld3.Plugin.call(this, fig, props);\n",
    "    };\n",
    "\n",
    "    TopToolbar.prototype.draw = function(){\n",
    "      // the toolbar svg doesn't exist\n",
    "      // yet, so first draw it\n",
    "      this.fig.toolbar.draw();\n",
    "\n",
    "      // then change the y position to be\n",
    "      // at the top of the figure\n",
    "      this.fig.toolbar.toolbar.attr(\"x\", 150);\n",
    "      this.fig.toolbar.toolbar.attr(\"y\", 400);\n",
    "\n",
    "      // then remove the draw function,\n",
    "      // so that it is not called again\n",
    "      this.fig.toolbar.draw = function() {}\n",
    "    }\n",
    "    \"\"\"\n",
    "    def __init__(self):\n",
    "        self.dict_ = {\"type\": \"toptoolbar\"}"
   ]
  },
  {
   "cell_type": "code",
   "execution_count": 56,
   "metadata": {
    "collapsed": false
   },
   "outputs": [
    {
     "data": {
      "text/html": [
       "\n",
       "\n",
       "<style>\n",
       "\n",
       "text.mpld3-text, div.mpld3-tooltip {\n",
       "  font-family:Arial, Helvetica, sans-serif;\n",
       "}\n",
       "\n",
       "g.mpld3-xaxis, g.mpld3-yaxis {\n",
       "display: none; }\n",
       "\n",
       "text.mpld3-text, div.mpld3-tooltip {\n",
       "  font-family:Arial, Helvetica, sans-serif;\n",
       "}\n",
       "\n",
       "g.mpld3-xaxis, g.mpld3-yaxis {\n",
       "display: none; }\n",
       "\n",
       "text.mpld3-text, div.mpld3-tooltip {\n",
       "  font-family:Arial, Helvetica, sans-serif;\n",
       "}\n",
       "\n",
       "g.mpld3-xaxis, g.mpld3-yaxis {\n",
       "display: none; }\n",
       "\n",
       "text.mpld3-text, div.mpld3-tooltip {\n",
       "  font-family:Arial, Helvetica, sans-serif;\n",
       "}\n",
       "\n",
       "g.mpld3-xaxis, g.mpld3-yaxis {\n",
       "display: none; }\n",
       "\n",
       "text.mpld3-text, div.mpld3-tooltip {\n",
       "  font-family:Arial, Helvetica, sans-serif;\n",
       "}\n",
       "\n",
       "g.mpld3-xaxis, g.mpld3-yaxis {\n",
       "display: none; }\n",
       "\n",
       "</style>\n",
       "\n",
       "<div id=\"fig_el7132144145961123136210687\"></div>\n",
       "<script>\n",
       "function mpld3_load_lib(url, callback){\n",
       "  var s = document.createElement('script');\n",
       "  s.src = url;\n",
       "  s.async = true;\n",
       "  s.onreadystatechange = s.onload = callback;\n",
       "  s.onerror = function(){console.warn(\"failed to load library \" + url);};\n",
       "  document.getElementsByTagName(\"head\")[0].appendChild(s);\n",
       "}\n",
       "\n",
       "if(typeof(mpld3) !== \"undefined\" && mpld3._mpld3IsLoaded){\n",
       "   // already loaded: just create the figure\n",
       "   !function(mpld3){\n",
       "       \n",
       "    mpld3.register_plugin(\"htmltooltip\", HtmlTooltipPlugin);\n",
       "    HtmlTooltipPlugin.prototype = Object.create(mpld3.Plugin.prototype);\n",
       "    HtmlTooltipPlugin.prototype.constructor = HtmlTooltipPlugin;\n",
       "    HtmlTooltipPlugin.prototype.requiredProps = [\"id\"];\n",
       "    HtmlTooltipPlugin.prototype.defaultProps = {labels:null, hoffset:0, voffset:10};\n",
       "    function HtmlTooltipPlugin(fig, props){\n",
       "        mpld3.Plugin.call(this, fig, props);\n",
       "    };\n",
       "\n",
       "    HtmlTooltipPlugin.prototype.draw = function(){\n",
       "       var obj = mpld3.get_element(this.props.id);\n",
       "       var labels = this.props.labels;\n",
       "       var tooltip = d3.select(\"body\").append(\"div\")\n",
       "                    .attr(\"class\", \"mpld3-tooltip\")\n",
       "                    .style(\"position\", \"absolute\")\n",
       "                    .style(\"z-index\", \"10\")\n",
       "                    .style(\"visibility\", \"hidden\");\n",
       "\n",
       "       obj.elements()\n",
       "           .on(\"mouseover\", function(d, i){\n",
       "                              tooltip.html(labels[i])\n",
       "                                     .style(\"visibility\", \"visible\");})\n",
       "           .on(\"mousemove\", function(d, i){\n",
       "                    tooltip\n",
       "                      .style(\"top\", d3.event.pageY + this.props.voffset + \"px\")\n",
       "                      .style(\"left\",d3.event.pageX + this.props.hoffset + \"px\");\n",
       "                 }.bind(this))\n",
       "           .on(\"mouseout\",  function(d, i){\n",
       "                           tooltip.style(\"visibility\", \"hidden\");});\n",
       "    };\n",
       "    \n",
       "    mpld3.register_plugin(\"toptoolbar\", TopToolbar);\n",
       "    TopToolbar.prototype = Object.create(mpld3.Plugin.prototype);\n",
       "    TopToolbar.prototype.constructor = TopToolbar;\n",
       "    function TopToolbar(fig, props){\n",
       "        mpld3.Plugin.call(this, fig, props);\n",
       "    };\n",
       "\n",
       "    TopToolbar.prototype.draw = function(){\n",
       "      // the toolbar svg doesn't exist\n",
       "      // yet, so first draw it\n",
       "      this.fig.toolbar.draw();\n",
       "\n",
       "      // then change the y position to be\n",
       "      // at the top of the figure\n",
       "      this.fig.toolbar.toolbar.attr(\"x\", 150);\n",
       "      this.fig.toolbar.toolbar.attr(\"y\", 400);\n",
       "\n",
       "      // then remove the draw function,\n",
       "      // so that it is not called again\n",
       "      this.fig.toolbar.draw = function() {}\n",
       "    }\n",
       "    \n",
       "    mpld3.register_plugin(\"htmltooltip\", HtmlTooltipPlugin);\n",
       "    HtmlTooltipPlugin.prototype = Object.create(mpld3.Plugin.prototype);\n",
       "    HtmlTooltipPlugin.prototype.constructor = HtmlTooltipPlugin;\n",
       "    HtmlTooltipPlugin.prototype.requiredProps = [\"id\"];\n",
       "    HtmlTooltipPlugin.prototype.defaultProps = {labels:null, hoffset:0, voffset:10};\n",
       "    function HtmlTooltipPlugin(fig, props){\n",
       "        mpld3.Plugin.call(this, fig, props);\n",
       "    };\n",
       "\n",
       "    HtmlTooltipPlugin.prototype.draw = function(){\n",
       "       var obj = mpld3.get_element(this.props.id);\n",
       "       var labels = this.props.labels;\n",
       "       var tooltip = d3.select(\"body\").append(\"div\")\n",
       "                    .attr(\"class\", \"mpld3-tooltip\")\n",
       "                    .style(\"position\", \"absolute\")\n",
       "                    .style(\"z-index\", \"10\")\n",
       "                    .style(\"visibility\", \"hidden\");\n",
       "\n",
       "       obj.elements()\n",
       "           .on(\"mouseover\", function(d, i){\n",
       "                              tooltip.html(labels[i])\n",
       "                                     .style(\"visibility\", \"visible\");})\n",
       "           .on(\"mousemove\", function(d, i){\n",
       "                    tooltip\n",
       "                      .style(\"top\", d3.event.pageY + this.props.voffset + \"px\")\n",
       "                      .style(\"left\",d3.event.pageX + this.props.hoffset + \"px\");\n",
       "                 }.bind(this))\n",
       "           .on(\"mouseout\",  function(d, i){\n",
       "                           tooltip.style(\"visibility\", \"hidden\");});\n",
       "    };\n",
       "    \n",
       "    mpld3.register_plugin(\"toptoolbar\", TopToolbar);\n",
       "    TopToolbar.prototype = Object.create(mpld3.Plugin.prototype);\n",
       "    TopToolbar.prototype.constructor = TopToolbar;\n",
       "    function TopToolbar(fig, props){\n",
       "        mpld3.Plugin.call(this, fig, props);\n",
       "    };\n",
       "\n",
       "    TopToolbar.prototype.draw = function(){\n",
       "      // the toolbar svg doesn't exist\n",
       "      // yet, so first draw it\n",
       "      this.fig.toolbar.draw();\n",
       "\n",
       "      // then change the y position to be\n",
       "      // at the top of the figure\n",
       "      this.fig.toolbar.toolbar.attr(\"x\", 150);\n",
       "      this.fig.toolbar.toolbar.attr(\"y\", 400);\n",
       "\n",
       "      // then remove the draw function,\n",
       "      // so that it is not called again\n",
       "      this.fig.toolbar.draw = function() {}\n",
       "    }\n",
       "    \n",
       "    mpld3.register_plugin(\"htmltooltip\", HtmlTooltipPlugin);\n",
       "    HtmlTooltipPlugin.prototype = Object.create(mpld3.Plugin.prototype);\n",
       "    HtmlTooltipPlugin.prototype.constructor = HtmlTooltipPlugin;\n",
       "    HtmlTooltipPlugin.prototype.requiredProps = [\"id\"];\n",
       "    HtmlTooltipPlugin.prototype.defaultProps = {labels:null, hoffset:0, voffset:10};\n",
       "    function HtmlTooltipPlugin(fig, props){\n",
       "        mpld3.Plugin.call(this, fig, props);\n",
       "    };\n",
       "\n",
       "    HtmlTooltipPlugin.prototype.draw = function(){\n",
       "       var obj = mpld3.get_element(this.props.id);\n",
       "       var labels = this.props.labels;\n",
       "       var tooltip = d3.select(\"body\").append(\"div\")\n",
       "                    .attr(\"class\", \"mpld3-tooltip\")\n",
       "                    .style(\"position\", \"absolute\")\n",
       "                    .style(\"z-index\", \"10\")\n",
       "                    .style(\"visibility\", \"hidden\");\n",
       "\n",
       "       obj.elements()\n",
       "           .on(\"mouseover\", function(d, i){\n",
       "                              tooltip.html(labels[i])\n",
       "                                     .style(\"visibility\", \"visible\");})\n",
       "           .on(\"mousemove\", function(d, i){\n",
       "                    tooltip\n",
       "                      .style(\"top\", d3.event.pageY + this.props.voffset + \"px\")\n",
       "                      .style(\"left\",d3.event.pageX + this.props.hoffset + \"px\");\n",
       "                 }.bind(this))\n",
       "           .on(\"mouseout\",  function(d, i){\n",
       "                           tooltip.style(\"visibility\", \"hidden\");});\n",
       "    };\n",
       "    \n",
       "    mpld3.register_plugin(\"toptoolbar\", TopToolbar);\n",
       "    TopToolbar.prototype = Object.create(mpld3.Plugin.prototype);\n",
       "    TopToolbar.prototype.constructor = TopToolbar;\n",
       "    function TopToolbar(fig, props){\n",
       "        mpld3.Plugin.call(this, fig, props);\n",
       "    };\n",
       "\n",
       "    TopToolbar.prototype.draw = function(){\n",
       "      // the toolbar svg doesn't exist\n",
       "      // yet, so first draw it\n",
       "      this.fig.toolbar.draw();\n",
       "\n",
       "      // then change the y position to be\n",
       "      // at the top of the figure\n",
       "      this.fig.toolbar.toolbar.attr(\"x\", 150);\n",
       "      this.fig.toolbar.toolbar.attr(\"y\", 400);\n",
       "\n",
       "      // then remove the draw function,\n",
       "      // so that it is not called again\n",
       "      this.fig.toolbar.draw = function() {}\n",
       "    }\n",
       "    \n",
       "    mpld3.register_plugin(\"htmltooltip\", HtmlTooltipPlugin);\n",
       "    HtmlTooltipPlugin.prototype = Object.create(mpld3.Plugin.prototype);\n",
       "    HtmlTooltipPlugin.prototype.constructor = HtmlTooltipPlugin;\n",
       "    HtmlTooltipPlugin.prototype.requiredProps = [\"id\"];\n",
       "    HtmlTooltipPlugin.prototype.defaultProps = {labels:null, hoffset:0, voffset:10};\n",
       "    function HtmlTooltipPlugin(fig, props){\n",
       "        mpld3.Plugin.call(this, fig, props);\n",
       "    };\n",
       "\n",
       "    HtmlTooltipPlugin.prototype.draw = function(){\n",
       "       var obj = mpld3.get_element(this.props.id);\n",
       "       var labels = this.props.labels;\n",
       "       var tooltip = d3.select(\"body\").append(\"div\")\n",
       "                    .attr(\"class\", \"mpld3-tooltip\")\n",
       "                    .style(\"position\", \"absolute\")\n",
       "                    .style(\"z-index\", \"10\")\n",
       "                    .style(\"visibility\", \"hidden\");\n",
       "\n",
       "       obj.elements()\n",
       "           .on(\"mouseover\", function(d, i){\n",
       "                              tooltip.html(labels[i])\n",
       "                                     .style(\"visibility\", \"visible\");})\n",
       "           .on(\"mousemove\", function(d, i){\n",
       "                    tooltip\n",
       "                      .style(\"top\", d3.event.pageY + this.props.voffset + \"px\")\n",
       "                      .style(\"left\",d3.event.pageX + this.props.hoffset + \"px\");\n",
       "                 }.bind(this))\n",
       "           .on(\"mouseout\",  function(d, i){\n",
       "                           tooltip.style(\"visibility\", \"hidden\");});\n",
       "    };\n",
       "    \n",
       "    mpld3.register_plugin(\"toptoolbar\", TopToolbar);\n",
       "    TopToolbar.prototype = Object.create(mpld3.Plugin.prototype);\n",
       "    TopToolbar.prototype.constructor = TopToolbar;\n",
       "    function TopToolbar(fig, props){\n",
       "        mpld3.Plugin.call(this, fig, props);\n",
       "    };\n",
       "\n",
       "    TopToolbar.prototype.draw = function(){\n",
       "      // the toolbar svg doesn't exist\n",
       "      // yet, so first draw it\n",
       "      this.fig.toolbar.draw();\n",
       "\n",
       "      // then change the y position to be\n",
       "      // at the top of the figure\n",
       "      this.fig.toolbar.toolbar.attr(\"x\", 150);\n",
       "      this.fig.toolbar.toolbar.attr(\"y\", 400);\n",
       "\n",
       "      // then remove the draw function,\n",
       "      // so that it is not called again\n",
       "      this.fig.toolbar.draw = function() {}\n",
       "    }\n",
       "    \n",
       "    mpld3.register_plugin(\"htmltooltip\", HtmlTooltipPlugin);\n",
       "    HtmlTooltipPlugin.prototype = Object.create(mpld3.Plugin.prototype);\n",
       "    HtmlTooltipPlugin.prototype.constructor = HtmlTooltipPlugin;\n",
       "    HtmlTooltipPlugin.prototype.requiredProps = [\"id\"];\n",
       "    HtmlTooltipPlugin.prototype.defaultProps = {labels:null, hoffset:0, voffset:10};\n",
       "    function HtmlTooltipPlugin(fig, props){\n",
       "        mpld3.Plugin.call(this, fig, props);\n",
       "    };\n",
       "\n",
       "    HtmlTooltipPlugin.prototype.draw = function(){\n",
       "       var obj = mpld3.get_element(this.props.id);\n",
       "       var labels = this.props.labels;\n",
       "       var tooltip = d3.select(\"body\").append(\"div\")\n",
       "                    .attr(\"class\", \"mpld3-tooltip\")\n",
       "                    .style(\"position\", \"absolute\")\n",
       "                    .style(\"z-index\", \"10\")\n",
       "                    .style(\"visibility\", \"hidden\");\n",
       "\n",
       "       obj.elements()\n",
       "           .on(\"mouseover\", function(d, i){\n",
       "                              tooltip.html(labels[i])\n",
       "                                     .style(\"visibility\", \"visible\");})\n",
       "           .on(\"mousemove\", function(d, i){\n",
       "                    tooltip\n",
       "                      .style(\"top\", d3.event.pageY + this.props.voffset + \"px\")\n",
       "                      .style(\"left\",d3.event.pageX + this.props.hoffset + \"px\");\n",
       "                 }.bind(this))\n",
       "           .on(\"mouseout\",  function(d, i){\n",
       "                           tooltip.style(\"visibility\", \"hidden\");});\n",
       "    };\n",
       "    \n",
       "    mpld3.register_plugin(\"toptoolbar\", TopToolbar);\n",
       "    TopToolbar.prototype = Object.create(mpld3.Plugin.prototype);\n",
       "    TopToolbar.prototype.constructor = TopToolbar;\n",
       "    function TopToolbar(fig, props){\n",
       "        mpld3.Plugin.call(this, fig, props);\n",
       "    };\n",
       "\n",
       "    TopToolbar.prototype.draw = function(){\n",
       "      // the toolbar svg doesn't exist\n",
       "      // yet, so first draw it\n",
       "      this.fig.toolbar.draw();\n",
       "\n",
       "      // then change the y position to be\n",
       "      // at the top of the figure\n",
       "      this.fig.toolbar.toolbar.attr(\"x\", 150);\n",
       "      this.fig.toolbar.toolbar.attr(\"y\", 400);\n",
       "\n",
       "      // then remove the draw function,\n",
       "      // so that it is not called again\n",
       "      this.fig.toolbar.draw = function() {}\n",
       "    }\n",
       "    \n",
       "       mpld3.draw_figure(\"fig_el7132144145961123136210687\", {\"axes\": [{\"xlim\": [-0.82286941798836, 0.83796400651271452], \"yscale\": \"linear\", \"axesbg\": \"#FFFFFF\", \"texts\": [{\"v_baseline\": \"auto\", \"h_anchor\": \"start\", \"color\": \"#000000\", \"text\": \"None\", \"coordinates\": \"axes\", \"zorder\": 1000003.0, \"alpha\": 1, \"fontsize\": 10.0, \"position\": [-0.16129032258064516, -0.16129032258064518], \"rotation\": -0.0, \"id\": \"el713214495272592\"}, {\"v_baseline\": \"auto\", \"h_anchor\": \"start\", \"color\": \"#000000\", \"text\": \"Family, home, war\", \"coordinates\": \"axes\", \"zorder\": 1000003.0, \"alpha\": 1, \"fontsize\": 12.0, \"position\": [0.78209605414746564, 0.94086021505376327], \"rotation\": -0.0, \"id\": \"el713214492369424\"}, {\"v_baseline\": \"auto\", \"h_anchor\": \"start\", \"color\": \"#000000\", \"text\": \"Police, killed, murders\", \"coordinates\": \"axes\", \"zorder\": 1000003.0, \"alpha\": 1, \"fontsize\": 12.0, \"position\": [0.78209605414746564, 0.88799283154121844], \"rotation\": -0.0, \"id\": \"el713214495189904\"}, {\"v_baseline\": \"auto\", \"h_anchor\": \"start\", \"color\": \"#000000\", \"text\": \"Father, New York, brothers\", \"coordinates\": \"axes\", \"zorder\": 1000003.0, \"alpha\": 1, \"fontsize\": 12.0, \"position\": [0.78209605414746564, 0.83512544802867383], \"rotation\": -0.0, \"id\": \"el713214495189392\"}, {\"v_baseline\": \"auto\", \"h_anchor\": \"start\", \"color\": \"#000000\", \"text\": \"Dance, singing, love\", \"coordinates\": \"axes\", \"zorder\": 1000003.0, \"alpha\": 1, \"fontsize\": 12.0, \"position\": [0.78209605414746564, 0.782258064516129], \"rotation\": -0.0, \"id\": \"el713214495152848\"}, {\"v_baseline\": \"auto\", \"h_anchor\": \"start\", \"color\": \"#000000\", \"text\": \"Killed, soldiers, captain\", \"coordinates\": \"axes\", \"zorder\": 1000003.0, \"alpha\": 1, \"fontsize\": 12.0, \"position\": [0.78209605414746564, 0.72939068100358417], \"rotation\": -0.0, \"id\": \"el713214495155152\"}], \"zoomable\": true, \"images\": [], \"xdomain\": [-0.82286941798836, 0.83796400651271452], \"ylim\": [-0.87286513505941821, 0.73484332018899401], \"paths\": [{\"edgecolor\": \"#000000\", \"facecolor\": \"#FFFFFF\", \"edgewidth\": 1.0, \"pathcodes\": [\"M\", \"L\", \"L\", \"L\", \"Z\"], \"yindex\": 1, \"coordinates\": \"axes\", \"dasharray\": \"10,0\", \"zorder\": 1000001.0, \"alpha\": 1, \"xindex\": 0, \"data\": \"data07\", \"id\": \"el713214492286288\"}], \"sharey\": [], \"sharex\": [], \"axesbgalpha\": null, \"axes\": [{\"scale\": \"linear\", \"tickformat\": \"\", \"grid\": {\"gridOn\": false}, \"fontsize\": null, \"position\": \"bottom\", \"nticks\": 0, \"tickvalues\": []}, {\"scale\": \"linear\", \"tickformat\": \"\", \"grid\": {\"gridOn\": false}, \"fontsize\": null, \"position\": \"left\", \"nticks\": 0, \"tickvalues\": []}], \"lines\": [], \"markers\": [{\"edgecolor\": \"none\", \"facecolor\": \"#1B9E77\", \"edgewidth\": 0.5, \"yindex\": 1, \"coordinates\": \"data\", \"zorder\": 2, \"markerpath\": [[[0.0, 9.0], [2.3868279, 9.0], [4.676218837063681, 8.051703224294176], [6.3639610306789285, 6.3639610306789285], [8.051703224294176, 4.676218837063681], [9.0, 2.3868279], [9.0, 0.0], [9.0, -2.3868279], [8.051703224294176, -4.676218837063681], [6.3639610306789285, -6.3639610306789285], [4.676218837063681, -8.051703224294176], [2.3868279, -9.0], [0.0, -9.0], [-2.3868279, -9.0], [-4.676218837063681, -8.051703224294176], [-6.3639610306789285, -6.3639610306789285], [-8.051703224294176, -4.676218837063681], [-9.0, -2.3868279], [-9.0, 0.0], [-9.0, 2.3868279], [-8.051703224294176, 4.676218837063681], [-6.3639610306789285, 6.3639610306789285], [-4.676218837063681, 8.051703224294176], [-2.3868279, 9.0], [0.0, 9.0]], [\"M\", \"C\", \"C\", \"C\", \"C\", \"C\", \"C\", \"C\", \"C\", \"Z\"]], \"alpha\": 1, \"xindex\": 0, \"data\": \"data01\", \"id\": \"el713214507221392pts\"}, {\"edgecolor\": \"none\", \"facecolor\": \"#D95F02\", \"edgewidth\": 0.5, \"yindex\": 1, \"coordinates\": \"data\", \"zorder\": 2, \"markerpath\": [[[0.0, 9.0], [2.3868279, 9.0], [4.676218837063681, 8.051703224294176], [6.3639610306789285, 6.3639610306789285], [8.051703224294176, 4.676218837063681], [9.0, 2.3868279], [9.0, 0.0], [9.0, -2.3868279], [8.051703224294176, -4.676218837063681], [6.3639610306789285, -6.3639610306789285], [4.676218837063681, -8.051703224294176], [2.3868279, -9.0], [0.0, -9.0], [-2.3868279, -9.0], [-4.676218837063681, -8.051703224294176], [-6.3639610306789285, -6.3639610306789285], [-8.051703224294176, -4.676218837063681], [-9.0, -2.3868279], [-9.0, 0.0], [-9.0, 2.3868279], [-8.051703224294176, 4.676218837063681], [-6.3639610306789285, 6.3639610306789285], [-4.676218837063681, 8.051703224294176], [-2.3868279, 9.0], [0.0, 9.0]], [\"M\", \"C\", \"C\", \"C\", \"C\", \"C\", \"C\", \"C\", \"C\", \"Z\"]], \"alpha\": 1, \"xindex\": 0, \"data\": \"data02\", \"id\": \"el713214492286480pts\"}, {\"edgecolor\": \"none\", \"facecolor\": \"#7570B3\", \"edgewidth\": 0.5, \"yindex\": 1, \"coordinates\": \"data\", \"zorder\": 2, \"markerpath\": [[[0.0, 9.0], [2.3868279, 9.0], [4.676218837063681, 8.051703224294176], [6.3639610306789285, 6.3639610306789285], [8.051703224294176, 4.676218837063681], [9.0, 2.3868279], [9.0, 0.0], [9.0, -2.3868279], [8.051703224294176, -4.676218837063681], [6.3639610306789285, -6.3639610306789285], [4.676218837063681, -8.051703224294176], [2.3868279, -9.0], [0.0, -9.0], [-2.3868279, -9.0], [-4.676218837063681, -8.051703224294176], [-6.3639610306789285, -6.3639610306789285], [-8.051703224294176, -4.676218837063681], [-9.0, -2.3868279], [-9.0, 0.0], [-9.0, 2.3868279], [-8.051703224294176, 4.676218837063681], [-6.3639610306789285, 6.3639610306789285], [-4.676218837063681, 8.051703224294176], [-2.3868279, 9.0], [0.0, 9.0]], [\"M\", \"C\", \"C\", \"C\", \"C\", \"C\", \"C\", \"C\", \"C\", \"Z\"]], \"alpha\": 1, \"xindex\": 0, \"data\": \"data03\", \"id\": \"el713214492286416pts\"}, {\"edgecolor\": \"none\", \"facecolor\": \"#E7298A\", \"edgewidth\": 0.5, \"yindex\": 1, \"coordinates\": \"data\", \"zorder\": 2, \"markerpath\": [[[0.0, 9.0], [2.3868279, 9.0], [4.676218837063681, 8.051703224294176], [6.3639610306789285, 6.3639610306789285], [8.051703224294176, 4.676218837063681], [9.0, 2.3868279], [9.0, 0.0], [9.0, -2.3868279], [8.051703224294176, -4.676218837063681], [6.3639610306789285, -6.3639610306789285], [4.676218837063681, -8.051703224294176], [2.3868279, -9.0], [0.0, -9.0], [-2.3868279, -9.0], [-4.676218837063681, -8.051703224294176], [-6.3639610306789285, -6.3639610306789285], [-8.051703224294176, -4.676218837063681], [-9.0, -2.3868279], [-9.0, 0.0], [-9.0, 2.3868279], [-8.051703224294176, 4.676218837063681], [-6.3639610306789285, 6.3639610306789285], [-4.676218837063681, 8.051703224294176], [-2.3868279, 9.0], [0.0, 9.0]], [\"M\", \"C\", \"C\", \"C\", \"C\", \"C\", \"C\", \"C\", \"C\", \"Z\"]], \"alpha\": 1, \"xindex\": 0, \"data\": \"data04\", \"id\": \"el713214508117648pts\"}, {\"edgecolor\": \"none\", \"facecolor\": \"#66A61E\", \"edgewidth\": 0.5, \"yindex\": 1, \"coordinates\": \"data\", \"zorder\": 2, \"markerpath\": [[[0.0, 9.0], [2.3868279, 9.0], [4.676218837063681, 8.051703224294176], [6.3639610306789285, 6.3639610306789285], [8.051703224294176, 4.676218837063681], [9.0, 2.3868279], [9.0, 0.0], [9.0, -2.3868279], [8.051703224294176, -4.676218837063681], [6.3639610306789285, -6.3639610306789285], [4.676218837063681, -8.051703224294176], [2.3868279, -9.0], [0.0, -9.0], [-2.3868279, -9.0], [-4.676218837063681, -8.051703224294176], [-6.3639610306789285, -6.3639610306789285], [-8.051703224294176, -4.676218837063681], [-9.0, -2.3868279], [-9.0, 0.0], [-9.0, 2.3868279], [-8.051703224294176, 4.676218837063681], [-6.3639610306789285, 6.3639610306789285], [-4.676218837063681, 8.051703224294176], [-2.3868279, 9.0], [0.0, 9.0]], [\"M\", \"C\", \"C\", \"C\", \"C\", \"C\", \"C\", \"C\", \"C\", \"Z\"]], \"alpha\": 1, \"xindex\": 0, \"data\": \"data05\", \"id\": \"el713214492300112pts\"}, {\"edgecolor\": \"none\", \"facecolor\": \"#1B9E77\", \"edgewidth\": 0.5, \"yindex\": 1, \"coordinates\": \"axes\", \"zorder\": 1000002.0, \"markerpath\": [[[0.0, 9.0], [2.3868279, 9.0], [4.676218837063681, 8.051703224294176], [6.3639610306789285, 6.3639610306789285], [8.051703224294176, 4.676218837063681], [9.0, 2.3868279], [9.0, 0.0], [9.0, -2.3868279], [8.051703224294176, -4.676218837063681], [6.3639610306789285, -6.3639610306789285], [4.676218837063681, -8.051703224294176], [2.3868279, -9.0], [0.0, -9.0], [-2.3868279, -9.0], [-4.676218837063681, -8.051703224294176], [-6.3639610306789285, -6.3639610306789285], [-8.051703224294176, -4.676218837063681], [-9.0, -2.3868279], [-9.0, 0.0], [-9.0, 2.3868279], [-8.051703224294176, 4.676218837063681], [-6.3639610306789285, 6.3639610306789285], [-4.676218837063681, 8.051703224294176], [-2.3868279, 9.0], [0.0, 9.0]], [\"M\", \"C\", \"C\", \"C\", \"C\", \"C\", \"C\", \"C\", \"C\", \"Z\"]], \"alpha\": 1, \"xindex\": 0, \"data\": \"data06\", \"id\": \"el713214495189008pts\"}, {\"edgecolor\": \"none\", \"facecolor\": \"#D95F02\", \"edgewidth\": 0.5, \"yindex\": 2, \"coordinates\": \"axes\", \"zorder\": 1000002.0, \"markerpath\": [[[0.0, 9.0], [2.3868279, 9.0], [4.676218837063681, 8.051703224294176], [6.3639610306789285, 6.3639610306789285], [8.051703224294176, 4.676218837063681], [9.0, 2.3868279], [9.0, 0.0], [9.0, -2.3868279], [8.051703224294176, -4.676218837063681], [6.3639610306789285, -6.3639610306789285], [4.676218837063681, -8.051703224294176], [2.3868279, -9.0], [0.0, -9.0], [-2.3868279, -9.0], [-4.676218837063681, -8.051703224294176], [-6.3639610306789285, -6.3639610306789285], [-8.051703224294176, -4.676218837063681], [-9.0, -2.3868279], [-9.0, 0.0], [-9.0, 2.3868279], [-8.051703224294176, 4.676218837063681], [-6.3639610306789285, 6.3639610306789285], [-4.676218837063681, 8.051703224294176], [-2.3868279, 9.0], [0.0, 9.0]], [\"M\", \"C\", \"C\", \"C\", \"C\", \"C\", \"C\", \"C\", \"C\", \"Z\"]], \"alpha\": 1, \"xindex\": 0, \"data\": \"data06\", \"id\": \"el713214495191312pts\"}, {\"edgecolor\": \"none\", \"facecolor\": \"#7570B3\", \"edgewidth\": 0.5, \"yindex\": 3, \"coordinates\": \"axes\", \"zorder\": 1000002.0, \"markerpath\": [[[0.0, 9.0], [2.3868279, 9.0], [4.676218837063681, 8.051703224294176], [6.3639610306789285, 6.3639610306789285], [8.051703224294176, 4.676218837063681], [9.0, 2.3868279], [9.0, 0.0], [9.0, -2.3868279], [8.051703224294176, -4.676218837063681], [6.3639610306789285, -6.3639610306789285], [4.676218837063681, -8.051703224294176], [2.3868279, -9.0], [0.0, -9.0], [-2.3868279, -9.0], [-4.676218837063681, -8.051703224294176], [-6.3639610306789285, -6.3639610306789285], [-8.051703224294176, -4.676218837063681], [-9.0, -2.3868279], [-9.0, 0.0], [-9.0, 2.3868279], [-8.051703224294176, 4.676218837063681], [-6.3639610306789285, 6.3639610306789285], [-4.676218837063681, 8.051703224294176], [-2.3868279, 9.0], [0.0, 9.0]], [\"M\", \"C\", \"C\", \"C\", \"C\", \"C\", \"C\", \"C\", \"C\", \"Z\"]], \"alpha\": 1, \"xindex\": 0, \"data\": \"data06\", \"id\": \"el713214495151952pts\"}, {\"edgecolor\": \"none\", \"facecolor\": \"#E7298A\", \"edgewidth\": 0.5, \"yindex\": 4, \"coordinates\": \"axes\", \"zorder\": 1000002.0, \"markerpath\": [[[0.0, 9.0], [2.3868279, 9.0], [4.676218837063681, 8.051703224294176], [6.3639610306789285, 6.3639610306789285], [8.051703224294176, 4.676218837063681], [9.0, 2.3868279], [9.0, 0.0], [9.0, -2.3868279], [8.051703224294176, -4.676218837063681], [6.3639610306789285, -6.3639610306789285], [4.676218837063681, -8.051703224294176], [2.3868279, -9.0], [0.0, -9.0], [-2.3868279, -9.0], [-4.676218837063681, -8.051703224294176], [-6.3639610306789285, -6.3639610306789285], [-8.051703224294176, -4.676218837063681], [-9.0, -2.3868279], [-9.0, 0.0], [-9.0, 2.3868279], [-8.051703224294176, 4.676218837063681], [-6.3639610306789285, 6.3639610306789285], [-4.676218837063681, 8.051703224294176], [-2.3868279, 9.0], [0.0, 9.0]], [\"M\", \"C\", \"C\", \"C\", \"C\", \"C\", \"C\", \"C\", \"C\", \"Z\"]], \"alpha\": 1, \"xindex\": 0, \"data\": \"data06\", \"id\": \"el713214495154256pts\"}, {\"edgecolor\": \"none\", \"facecolor\": \"#66A61E\", \"edgewidth\": 0.5, \"yindex\": 5, \"coordinates\": \"axes\", \"zorder\": 1000002.0, \"markerpath\": [[[0.0, 9.0], [2.3868279, 9.0], [4.676218837063681, 8.051703224294176], [6.3639610306789285, 6.3639610306789285], [8.051703224294176, 4.676218837063681], [9.0, 2.3868279], [9.0, 0.0], [9.0, -2.3868279], [8.051703224294176, -4.676218837063681], [6.3639610306789285, -6.3639610306789285], [4.676218837063681, -8.051703224294176], [2.3868279, -9.0], [0.0, -9.0], [-2.3868279, -9.0], [-4.676218837063681, -8.051703224294176], [-6.3639610306789285, -6.3639610306789285], [-8.051703224294176, -4.676218837063681], [-9.0, -2.3868279], [-9.0, 0.0], [-9.0, 2.3868279], [-8.051703224294176, 4.676218837063681], [-6.3639610306789285, 6.3639610306789285], [-4.676218837063681, 8.051703224294176], [-2.3868279, 9.0], [0.0, 9.0]], [\"M\", \"C\", \"C\", \"C\", \"C\", \"C\", \"C\", \"C\", \"C\", \"Z\"]], \"alpha\": 1, \"xindex\": 0, \"data\": \"data06\", \"id\": \"el713214495271312pts\"}], \"id\": \"el713214414710480\", \"ydomain\": [-0.87286513505941821, 0.73484332018899401], \"collections\": [], \"xscale\": \"linear\", \"bbox\": [0.125, 0.125, 0.77500000000000002, 0.77500000000000002]}], \"height\": 480.0, \"width\": 1120.0, \"plugins\": [{\"type\": \"reset\"}, {\"enabled\": false, \"button\": true, \"type\": \"zoom\"}, {\"enabled\": false, \"button\": true, \"type\": \"boxzoom\"}, {\"voffset\": 10, \"labels\": [\"The Greatest Showman\", \"Thor: Ragnarok\", \"Star Wars: Episode VIII - The Last Jedi\", \"Justice League\", \"A Series of Unfortunate Events\", \"Murder on the Orient Express\", \"Downsizing\", \"Call Me by Your Name\", \"The Good Fight\", \"The Punisher\", \"Kodachrome\", \"Dunkirk\", \"You Were Never Really Here\", \"Dark\", \"Young Sheldon\", \"Beauty and the Beast\", \"The Orville\", \"Logan Lucky\", \"Father Figures\", \"John Wick: Chapter 2\", \"Bright\", \"Britannia\", \"The Gifted\", \"The Sinner\", \"The Hitman's Bodyguard\"], \"type\": \"htmltooltip\", \"id\": \"el713214507221392pts\", \"hoffset\": 10}, {\"type\": \"toptoolbar\"}, {\"voffset\": 10, \"labels\": [\"I Kill Giants\", \"Pitch Perfect 3\", \"La casa de papel\", \"Molly's Game\", \"Wonder Woman\", \"Get Out\", \"Transformers: The Last Knight\", \"Logan\", \"Mother!\", \"King Arthur: Legend of the Sword\", \"Godless\", \"Iron Fist\", \"Runaways\", \"Going in Style\", \"Tabula Rasa\", \"Geostorm\"], \"type\": \"htmltooltip\", \"id\": \"el713214492286480pts\", \"hoffset\": 10}, {\"type\": \"toptoolbar\"}, {\"voffset\": 10, \"labels\": [\"Santa Clarita Diet\", \"The Shape of Water\", \"All the Money in the World\", \"Three Billboards Outside Ebbing, Missouri\", \"The Handmaid's Tale\", \"Spider-Man: Homecoming\", \"Darkest Hour\", \"Ver\\u00f3nica\", \"Paddington 2\", \"The Florida Project\", \"Ozark\", \"Dog Years\", \"The End of the F***ing World\", \"Alien: Covenant\", \"The Beguiled\", \"Taboo\", \"Pirates of the Caribbean: Dead Men Tell No Tales\", \"A.P. Bio\", \"Kong: Skull Island\", \"Jamestown\", \"Only the Brave\"], \"type\": \"htmltooltip\", \"id\": \"el713214492286416pts\", \"hoffset\": 10}, {\"type\": \"toptoolbar\"}, {\"voffset\": 10, \"labels\": [\"Ferdinand\", \"13 Reasons Why\", \"Blade Runner 2049\", \"Phantom Thread\", \"SEAL Team\", \"Star Trek: Discovery\", \"Power Rangers\", \"Baywatch\", \"The Killing of a Sacred Deer\", \"American Gods\", \"The Ritual\", \"The Square\"], \"type\": \"htmltooltip\", \"id\": \"el713214508117648pts\", \"hoffset\": 10}, {\"type\": \"toptoolbar\"}, {\"voffset\": 10, \"labels\": [\"Jumanji: Welcome to the Jungle\", \"Coco\", \"The Good Doctor\", \"I, Tonya\", \"Counterpart\", \"Atomic Blonde\", \"Wonder\", \"Lady Bird\", \"It\", \"Guardians of the Galaxy Vol. 2\", \"Roxanne Roxanne\", \"The Death of Stalin\", \"Wind River\", \"Legion\", \"The Disaster Artist\", \"Baby Driver\", \"Big Little Lies\", \"Mindhunter\", \"Kingsman: The Golden Circle\", \"Valerian and the City of a Thousand Planets\", \"Dynasty\", \"Chappaquiddick\", \"The Post\", \"Hostiles\", \"Daddy's Home 2\", \"Suburbicon\"], \"type\": \"htmltooltip\", \"id\": \"el713214492300112pts\", \"hoffset\": 10}, {\"type\": \"toptoolbar\"}], \"data\": {\"data06\": [[0.7544462845622121, 0.9534050179211467, 0.9005376344086019, 0.8476702508960573, 0.7948028673835125, 0.7419354838709676]], \"data07\": [[0.7329409082181261, 0.7069892473118278], [0.9923195084485409, 0.7069892473118278], [0.9923195084485409, 0.9820788530465947], [0.7329409082181261, 0.9820788530465947]], \"data04\": [[0.1736919198638196, 0.1234407006023813], [0.2436200916873072, -0.52768788455603], [0.13009718295467684, 0.23244414544634479], [-0.2928355971095221, 0.1410862801738957], [0.2729425668785151, 0.5523186653326415], [0.6008102087407622, 0.2578347793177926], [0.4436367708037022, 0.007013134554397783], [0.38232604623998834, 0.21124574052826142], [-0.06398767209590858, 0.30925093666096787], [0.07170718482621508, 0.3712291993168509], [0.1326513395259823, 0.5102551149187002], [0.6943141196780926, 0.4232906852746088]], \"data05\": [[-0.5034099241697152, 0.20117440814572163], [-0.3122841605732964, -0.36082579927740477], [0.6732763580880431, -0.27648353304045925], [-0.2864047879057714, -0.2599437693543846], [-0.47932205769910136, 0.3065848559866677], [-0.5328220577910332, -0.11189041359068927], [-0.5353066259528617, -0.17685700164882895], [-0.5148724207407983, -0.28193896798818296], [-0.21232325722145295, -0.26291066068450664], [-0.08411054017399003, -0.5656246168976516], [-0.23738808164992062, -0.12857845412036972], [-0.30396772864243843, -0.11688021275957738], [-0.39145402442730076, 0.25078976409695897], [-0.3601050758016082, -0.23456779640348743], [-0.6312605198668397, -0.20462960737657124], [-0.14289681368019266, -0.4211745119910764], [-0.43466823666720383, 0.012041911802577467], [0.04326892852895822, -0.6212236984677526], [-0.4160691386675823, -0.18094438707490731], [-0.4567010728781656, -0.31711459900915645], [-0.3409773119787017, -0.05374075457430377], [0.6912291824631079, -0.4260362713462507], [-0.47524120604146647, -0.7250909121315343], [-0.008022666884160043, 0.6139117554113885], [0.44137073808594784, -0.44846145757731426], [0.5698308072592746, -0.554872540388361]], \"data02\": [[-0.4260269635546792, 0.07630538819013696], [-0.008120873672254636, 0.42996769799080015], [0.27451237304091175, 0.3498169741969227], [-0.012438294601369665, 0.23576784409808307], [0.024857966587026846, -0.4119476659489259], [0.41599149015154285, 0.08828722571338883], [-0.7758646984270088, 0.37337471727810106], [0.07434875204775188, -0.03290668490233116], [-0.11277822175164781, 0.25716850335694647], [-0.10095606143230686, -0.01805984684863088], [-0.23513034172314967, 0.1575487792939255], [0.04519543287824311, 0.12515742607799688], [-0.3105104353729653, 0.4229357449774255], [0.38169581868567487, 0.019535030096965264], [-0.1388585355776826, 0.1648928503077102], [-0.057021338995832664, 0.15821541880169146]], \"data03\": [[0.210785011975699, -0.0777650280824059], [0.42349723854395377, 0.4034885315601747], [0.07117038202028804, 0.5525752835133435], [0.20265843361319044, 0.009365023300699866], [-0.11701559251562842, 0.08668644910902362], [0.2955715971287281, -0.6197591171467741], [-0.16683195881508833, 0.3361091544253937], [-0.16032732353954007, 0.5254485617633905], [0.1123318156145579, -0.30473115758334446], [-0.2270605060288298, -0.5607364098148404], [-0.28083621391657665, 0.6044816520348851], [0.23921533401971445, -0.15369257849794024], [0.7909592869513634, 0.13893046884049606], [0.6543445776907268, 0.0606146802904095], [0.5971035719438459, -0.16249802258503707], [0.29260526916654367, -0.47744560831764904], [0.4530115278101791, 0.15922950175117204], [0.4835415544944882, 0.5164262728347718], [-0.11079161306282234, -0.8273639523637084], [-0.28746791896681545, 0.33163001136677717], [-0.24640710664779936, 0.4775421108331806]], \"data01\": [[-0.5621789760064216, -0.03775837414300215], [-0.5558264828259558, 0.13082222759951814], [-0.051169110954400056, -0.03218817070552611], [-0.06586254297267381, -0.3227676016097853], [-0.42883521934284347, -0.47424348213490236], [0.2416497434649107, -0.33323175776597], [-0.060919236099971984, 0.4278570525350336], [-0.2627373281878346, -0.5140685811702042], [-0.59884496658824, 0.06404854193096232], [0.3900102419580246, -0.27012305778071666], [-0.27691933193142576, 0.2243405740260568], [-0.4380318238214921, 0.41168936987820287], [-0.0009717827327016971, -0.46688786939090937], [0.19456022864659642, -0.20512698461221227], [0.07496661937468738, -0.15606599987022196], [0.20488650119637136, 0.3913396819950895], [-0.09778623783820029, 0.6232611321145621], [0.32264085104932017, 0.2874814081206258], [0.4039745338594567, 0.6893421374932842], [0.3627453989663955, -0.14544451237180078], [0.4601236477486721, -0.2709431308086578], [-0.04736264523665594, -0.21998918438950787], [0.09928783814039419, 0.30561989842625575], [0.0971444266434291, -0.7579873708940535], [0.7781597507227644, -0.03000540369570065]]}, \"id\": \"el713214414596112\"});\n",
       "   }(mpld3);\n",
       "}else if(typeof define === \"function\" && define.amd){\n",
       "   // require.js is available: use it to load d3/mpld3\n",
       "   require.config({paths: {d3: \"https://mpld3.github.io/js/d3.v3.min\"}});\n",
       "   require([\"d3\"], function(d3){\n",
       "      window.d3 = d3;\n",
       "      mpld3_load_lib(\"https://mpld3.github.io/js/mpld3.v0.2.js\", function(){\n",
       "         \n",
       "    mpld3.register_plugin(\"htmltooltip\", HtmlTooltipPlugin);\n",
       "    HtmlTooltipPlugin.prototype = Object.create(mpld3.Plugin.prototype);\n",
       "    HtmlTooltipPlugin.prototype.constructor = HtmlTooltipPlugin;\n",
       "    HtmlTooltipPlugin.prototype.requiredProps = [\"id\"];\n",
       "    HtmlTooltipPlugin.prototype.defaultProps = {labels:null, hoffset:0, voffset:10};\n",
       "    function HtmlTooltipPlugin(fig, props){\n",
       "        mpld3.Plugin.call(this, fig, props);\n",
       "    };\n",
       "\n",
       "    HtmlTooltipPlugin.prototype.draw = function(){\n",
       "       var obj = mpld3.get_element(this.props.id);\n",
       "       var labels = this.props.labels;\n",
       "       var tooltip = d3.select(\"body\").append(\"div\")\n",
       "                    .attr(\"class\", \"mpld3-tooltip\")\n",
       "                    .style(\"position\", \"absolute\")\n",
       "                    .style(\"z-index\", \"10\")\n",
       "                    .style(\"visibility\", \"hidden\");\n",
       "\n",
       "       obj.elements()\n",
       "           .on(\"mouseover\", function(d, i){\n",
       "                              tooltip.html(labels[i])\n",
       "                                     .style(\"visibility\", \"visible\");})\n",
       "           .on(\"mousemove\", function(d, i){\n",
       "                    tooltip\n",
       "                      .style(\"top\", d3.event.pageY + this.props.voffset + \"px\")\n",
       "                      .style(\"left\",d3.event.pageX + this.props.hoffset + \"px\");\n",
       "                 }.bind(this))\n",
       "           .on(\"mouseout\",  function(d, i){\n",
       "                           tooltip.style(\"visibility\", \"hidden\");});\n",
       "    };\n",
       "    \n",
       "    mpld3.register_plugin(\"toptoolbar\", TopToolbar);\n",
       "    TopToolbar.prototype = Object.create(mpld3.Plugin.prototype);\n",
       "    TopToolbar.prototype.constructor = TopToolbar;\n",
       "    function TopToolbar(fig, props){\n",
       "        mpld3.Plugin.call(this, fig, props);\n",
       "    };\n",
       "\n",
       "    TopToolbar.prototype.draw = function(){\n",
       "      // the toolbar svg doesn't exist\n",
       "      // yet, so first draw it\n",
       "      this.fig.toolbar.draw();\n",
       "\n",
       "      // then change the y position to be\n",
       "      // at the top of the figure\n",
       "      this.fig.toolbar.toolbar.attr(\"x\", 150);\n",
       "      this.fig.toolbar.toolbar.attr(\"y\", 400);\n",
       "\n",
       "      // then remove the draw function,\n",
       "      // so that it is not called again\n",
       "      this.fig.toolbar.draw = function() {}\n",
       "    }\n",
       "    \n",
       "    mpld3.register_plugin(\"htmltooltip\", HtmlTooltipPlugin);\n",
       "    HtmlTooltipPlugin.prototype = Object.create(mpld3.Plugin.prototype);\n",
       "    HtmlTooltipPlugin.prototype.constructor = HtmlTooltipPlugin;\n",
       "    HtmlTooltipPlugin.prototype.requiredProps = [\"id\"];\n",
       "    HtmlTooltipPlugin.prototype.defaultProps = {labels:null, hoffset:0, voffset:10};\n",
       "    function HtmlTooltipPlugin(fig, props){\n",
       "        mpld3.Plugin.call(this, fig, props);\n",
       "    };\n",
       "\n",
       "    HtmlTooltipPlugin.prototype.draw = function(){\n",
       "       var obj = mpld3.get_element(this.props.id);\n",
       "       var labels = this.props.labels;\n",
       "       var tooltip = d3.select(\"body\").append(\"div\")\n",
       "                    .attr(\"class\", \"mpld3-tooltip\")\n",
       "                    .style(\"position\", \"absolute\")\n",
       "                    .style(\"z-index\", \"10\")\n",
       "                    .style(\"visibility\", \"hidden\");\n",
       "\n",
       "       obj.elements()\n",
       "           .on(\"mouseover\", function(d, i){\n",
       "                              tooltip.html(labels[i])\n",
       "                                     .style(\"visibility\", \"visible\");})\n",
       "           .on(\"mousemove\", function(d, i){\n",
       "                    tooltip\n",
       "                      .style(\"top\", d3.event.pageY + this.props.voffset + \"px\")\n",
       "                      .style(\"left\",d3.event.pageX + this.props.hoffset + \"px\");\n",
       "                 }.bind(this))\n",
       "           .on(\"mouseout\",  function(d, i){\n",
       "                           tooltip.style(\"visibility\", \"hidden\");});\n",
       "    };\n",
       "    \n",
       "    mpld3.register_plugin(\"toptoolbar\", TopToolbar);\n",
       "    TopToolbar.prototype = Object.create(mpld3.Plugin.prototype);\n",
       "    TopToolbar.prototype.constructor = TopToolbar;\n",
       "    function TopToolbar(fig, props){\n",
       "        mpld3.Plugin.call(this, fig, props);\n",
       "    };\n",
       "\n",
       "    TopToolbar.prototype.draw = function(){\n",
       "      // the toolbar svg doesn't exist\n",
       "      // yet, so first draw it\n",
       "      this.fig.toolbar.draw();\n",
       "\n",
       "      // then change the y position to be\n",
       "      // at the top of the figure\n",
       "      this.fig.toolbar.toolbar.attr(\"x\", 150);\n",
       "      this.fig.toolbar.toolbar.attr(\"y\", 400);\n",
       "\n",
       "      // then remove the draw function,\n",
       "      // so that it is not called again\n",
       "      this.fig.toolbar.draw = function() {}\n",
       "    }\n",
       "    \n",
       "    mpld3.register_plugin(\"htmltooltip\", HtmlTooltipPlugin);\n",
       "    HtmlTooltipPlugin.prototype = Object.create(mpld3.Plugin.prototype);\n",
       "    HtmlTooltipPlugin.prototype.constructor = HtmlTooltipPlugin;\n",
       "    HtmlTooltipPlugin.prototype.requiredProps = [\"id\"];\n",
       "    HtmlTooltipPlugin.prototype.defaultProps = {labels:null, hoffset:0, voffset:10};\n",
       "    function HtmlTooltipPlugin(fig, props){\n",
       "        mpld3.Plugin.call(this, fig, props);\n",
       "    };\n",
       "\n",
       "    HtmlTooltipPlugin.prototype.draw = function(){\n",
       "       var obj = mpld3.get_element(this.props.id);\n",
       "       var labels = this.props.labels;\n",
       "       var tooltip = d3.select(\"body\").append(\"div\")\n",
       "                    .attr(\"class\", \"mpld3-tooltip\")\n",
       "                    .style(\"position\", \"absolute\")\n",
       "                    .style(\"z-index\", \"10\")\n",
       "                    .style(\"visibility\", \"hidden\");\n",
       "\n",
       "       obj.elements()\n",
       "           .on(\"mouseover\", function(d, i){\n",
       "                              tooltip.html(labels[i])\n",
       "                                     .style(\"visibility\", \"visible\");})\n",
       "           .on(\"mousemove\", function(d, i){\n",
       "                    tooltip\n",
       "                      .style(\"top\", d3.event.pageY + this.props.voffset + \"px\")\n",
       "                      .style(\"left\",d3.event.pageX + this.props.hoffset + \"px\");\n",
       "                 }.bind(this))\n",
       "           .on(\"mouseout\",  function(d, i){\n",
       "                           tooltip.style(\"visibility\", \"hidden\");});\n",
       "    };\n",
       "    \n",
       "    mpld3.register_plugin(\"toptoolbar\", TopToolbar);\n",
       "    TopToolbar.prototype = Object.create(mpld3.Plugin.prototype);\n",
       "    TopToolbar.prototype.constructor = TopToolbar;\n",
       "    function TopToolbar(fig, props){\n",
       "        mpld3.Plugin.call(this, fig, props);\n",
       "    };\n",
       "\n",
       "    TopToolbar.prototype.draw = function(){\n",
       "      // the toolbar svg doesn't exist\n",
       "      // yet, so first draw it\n",
       "      this.fig.toolbar.draw();\n",
       "\n",
       "      // then change the y position to be\n",
       "      // at the top of the figure\n",
       "      this.fig.toolbar.toolbar.attr(\"x\", 150);\n",
       "      this.fig.toolbar.toolbar.attr(\"y\", 400);\n",
       "\n",
       "      // then remove the draw function,\n",
       "      // so that it is not called again\n",
       "      this.fig.toolbar.draw = function() {}\n",
       "    }\n",
       "    \n",
       "    mpld3.register_plugin(\"htmltooltip\", HtmlTooltipPlugin);\n",
       "    HtmlTooltipPlugin.prototype = Object.create(mpld3.Plugin.prototype);\n",
       "    HtmlTooltipPlugin.prototype.constructor = HtmlTooltipPlugin;\n",
       "    HtmlTooltipPlugin.prototype.requiredProps = [\"id\"];\n",
       "    HtmlTooltipPlugin.prototype.defaultProps = {labels:null, hoffset:0, voffset:10};\n",
       "    function HtmlTooltipPlugin(fig, props){\n",
       "        mpld3.Plugin.call(this, fig, props);\n",
       "    };\n",
       "\n",
       "    HtmlTooltipPlugin.prototype.draw = function(){\n",
       "       var obj = mpld3.get_element(this.props.id);\n",
       "       var labels = this.props.labels;\n",
       "       var tooltip = d3.select(\"body\").append(\"div\")\n",
       "                    .attr(\"class\", \"mpld3-tooltip\")\n",
       "                    .style(\"position\", \"absolute\")\n",
       "                    .style(\"z-index\", \"10\")\n",
       "                    .style(\"visibility\", \"hidden\");\n",
       "\n",
       "       obj.elements()\n",
       "           .on(\"mouseover\", function(d, i){\n",
       "                              tooltip.html(labels[i])\n",
       "                                     .style(\"visibility\", \"visible\");})\n",
       "           .on(\"mousemove\", function(d, i){\n",
       "                    tooltip\n",
       "                      .style(\"top\", d3.event.pageY + this.props.voffset + \"px\")\n",
       "                      .style(\"left\",d3.event.pageX + this.props.hoffset + \"px\");\n",
       "                 }.bind(this))\n",
       "           .on(\"mouseout\",  function(d, i){\n",
       "                           tooltip.style(\"visibility\", \"hidden\");});\n",
       "    };\n",
       "    \n",
       "    mpld3.register_plugin(\"toptoolbar\", TopToolbar);\n",
       "    TopToolbar.prototype = Object.create(mpld3.Plugin.prototype);\n",
       "    TopToolbar.prototype.constructor = TopToolbar;\n",
       "    function TopToolbar(fig, props){\n",
       "        mpld3.Plugin.call(this, fig, props);\n",
       "    };\n",
       "\n",
       "    TopToolbar.prototype.draw = function(){\n",
       "      // the toolbar svg doesn't exist\n",
       "      // yet, so first draw it\n",
       "      this.fig.toolbar.draw();\n",
       "\n",
       "      // then change the y position to be\n",
       "      // at the top of the figure\n",
       "      this.fig.toolbar.toolbar.attr(\"x\", 150);\n",
       "      this.fig.toolbar.toolbar.attr(\"y\", 400);\n",
       "\n",
       "      // then remove the draw function,\n",
       "      // so that it is not called again\n",
       "      this.fig.toolbar.draw = function() {}\n",
       "    }\n",
       "    \n",
       "    mpld3.register_plugin(\"htmltooltip\", HtmlTooltipPlugin);\n",
       "    HtmlTooltipPlugin.prototype = Object.create(mpld3.Plugin.prototype);\n",
       "    HtmlTooltipPlugin.prototype.constructor = HtmlTooltipPlugin;\n",
       "    HtmlTooltipPlugin.prototype.requiredProps = [\"id\"];\n",
       "    HtmlTooltipPlugin.prototype.defaultProps = {labels:null, hoffset:0, voffset:10};\n",
       "    function HtmlTooltipPlugin(fig, props){\n",
       "        mpld3.Plugin.call(this, fig, props);\n",
       "    };\n",
       "\n",
       "    HtmlTooltipPlugin.prototype.draw = function(){\n",
       "       var obj = mpld3.get_element(this.props.id);\n",
       "       var labels = this.props.labels;\n",
       "       var tooltip = d3.select(\"body\").append(\"div\")\n",
       "                    .attr(\"class\", \"mpld3-tooltip\")\n",
       "                    .style(\"position\", \"absolute\")\n",
       "                    .style(\"z-index\", \"10\")\n",
       "                    .style(\"visibility\", \"hidden\");\n",
       "\n",
       "       obj.elements()\n",
       "           .on(\"mouseover\", function(d, i){\n",
       "                              tooltip.html(labels[i])\n",
       "                                     .style(\"visibility\", \"visible\");})\n",
       "           .on(\"mousemove\", function(d, i){\n",
       "                    tooltip\n",
       "                      .style(\"top\", d3.event.pageY + this.props.voffset + \"px\")\n",
       "                      .style(\"left\",d3.event.pageX + this.props.hoffset + \"px\");\n",
       "                 }.bind(this))\n",
       "           .on(\"mouseout\",  function(d, i){\n",
       "                           tooltip.style(\"visibility\", \"hidden\");});\n",
       "    };\n",
       "    \n",
       "    mpld3.register_plugin(\"toptoolbar\", TopToolbar);\n",
       "    TopToolbar.prototype = Object.create(mpld3.Plugin.prototype);\n",
       "    TopToolbar.prototype.constructor = TopToolbar;\n",
       "    function TopToolbar(fig, props){\n",
       "        mpld3.Plugin.call(this, fig, props);\n",
       "    };\n",
       "\n",
       "    TopToolbar.prototype.draw = function(){\n",
       "      // the toolbar svg doesn't exist\n",
       "      // yet, so first draw it\n",
       "      this.fig.toolbar.draw();\n",
       "\n",
       "      // then change the y position to be\n",
       "      // at the top of the figure\n",
       "      this.fig.toolbar.toolbar.attr(\"x\", 150);\n",
       "      this.fig.toolbar.toolbar.attr(\"y\", 400);\n",
       "\n",
       "      // then remove the draw function,\n",
       "      // so that it is not called again\n",
       "      this.fig.toolbar.draw = function() {}\n",
       "    }\n",
       "    \n",
       "         mpld3.draw_figure(\"fig_el7132144145961123136210687\", {\"axes\": [{\"xlim\": [-0.82286941798836, 0.83796400651271452], \"yscale\": \"linear\", \"axesbg\": \"#FFFFFF\", \"texts\": [{\"v_baseline\": \"auto\", \"h_anchor\": \"start\", \"color\": \"#000000\", \"text\": \"None\", \"coordinates\": \"axes\", \"zorder\": 1000003.0, \"alpha\": 1, \"fontsize\": 10.0, \"position\": [-0.16129032258064516, -0.16129032258064518], \"rotation\": -0.0, \"id\": \"el713214495272592\"}, {\"v_baseline\": \"auto\", \"h_anchor\": \"start\", \"color\": \"#000000\", \"text\": \"Family, home, war\", \"coordinates\": \"axes\", \"zorder\": 1000003.0, \"alpha\": 1, \"fontsize\": 12.0, \"position\": [0.78209605414746564, 0.94086021505376327], \"rotation\": -0.0, \"id\": \"el713214492369424\"}, {\"v_baseline\": \"auto\", \"h_anchor\": \"start\", \"color\": \"#000000\", \"text\": \"Police, killed, murders\", \"coordinates\": \"axes\", \"zorder\": 1000003.0, \"alpha\": 1, \"fontsize\": 12.0, \"position\": [0.78209605414746564, 0.88799283154121844], \"rotation\": -0.0, \"id\": \"el713214495189904\"}, {\"v_baseline\": \"auto\", \"h_anchor\": \"start\", \"color\": \"#000000\", \"text\": \"Father, New York, brothers\", \"coordinates\": \"axes\", \"zorder\": 1000003.0, \"alpha\": 1, \"fontsize\": 12.0, \"position\": [0.78209605414746564, 0.83512544802867383], \"rotation\": -0.0, \"id\": \"el713214495189392\"}, {\"v_baseline\": \"auto\", \"h_anchor\": \"start\", \"color\": \"#000000\", \"text\": \"Dance, singing, love\", \"coordinates\": \"axes\", \"zorder\": 1000003.0, \"alpha\": 1, \"fontsize\": 12.0, \"position\": [0.78209605414746564, 0.782258064516129], \"rotation\": -0.0, \"id\": \"el713214495152848\"}, {\"v_baseline\": \"auto\", \"h_anchor\": \"start\", \"color\": \"#000000\", \"text\": \"Killed, soldiers, captain\", \"coordinates\": \"axes\", \"zorder\": 1000003.0, \"alpha\": 1, \"fontsize\": 12.0, \"position\": [0.78209605414746564, 0.72939068100358417], \"rotation\": -0.0, \"id\": \"el713214495155152\"}], \"zoomable\": true, \"images\": [], \"xdomain\": [-0.82286941798836, 0.83796400651271452], \"ylim\": [-0.87286513505941821, 0.73484332018899401], \"paths\": [{\"edgecolor\": \"#000000\", \"facecolor\": \"#FFFFFF\", \"edgewidth\": 1.0, \"pathcodes\": [\"M\", \"L\", \"L\", \"L\", \"Z\"], \"yindex\": 1, \"coordinates\": \"axes\", \"dasharray\": \"10,0\", \"zorder\": 1000001.0, \"alpha\": 1, \"xindex\": 0, \"data\": \"data07\", \"id\": \"el713214492286288\"}], \"sharey\": [], \"sharex\": [], \"axesbgalpha\": null, \"axes\": [{\"scale\": \"linear\", \"tickformat\": \"\", \"grid\": {\"gridOn\": false}, \"fontsize\": null, \"position\": \"bottom\", \"nticks\": 0, \"tickvalues\": []}, {\"scale\": \"linear\", \"tickformat\": \"\", \"grid\": {\"gridOn\": false}, \"fontsize\": null, \"position\": \"left\", \"nticks\": 0, \"tickvalues\": []}], \"lines\": [], \"markers\": [{\"edgecolor\": \"none\", \"facecolor\": \"#1B9E77\", \"edgewidth\": 0.5, \"yindex\": 1, \"coordinates\": \"data\", \"zorder\": 2, \"markerpath\": [[[0.0, 9.0], [2.3868279, 9.0], [4.676218837063681, 8.051703224294176], [6.3639610306789285, 6.3639610306789285], [8.051703224294176, 4.676218837063681], [9.0, 2.3868279], [9.0, 0.0], [9.0, -2.3868279], [8.051703224294176, -4.676218837063681], [6.3639610306789285, -6.3639610306789285], [4.676218837063681, -8.051703224294176], [2.3868279, -9.0], [0.0, -9.0], [-2.3868279, -9.0], [-4.676218837063681, -8.051703224294176], [-6.3639610306789285, -6.3639610306789285], [-8.051703224294176, -4.676218837063681], [-9.0, -2.3868279], [-9.0, 0.0], [-9.0, 2.3868279], [-8.051703224294176, 4.676218837063681], [-6.3639610306789285, 6.3639610306789285], [-4.676218837063681, 8.051703224294176], [-2.3868279, 9.0], [0.0, 9.0]], [\"M\", \"C\", \"C\", \"C\", \"C\", \"C\", \"C\", \"C\", \"C\", \"Z\"]], \"alpha\": 1, \"xindex\": 0, \"data\": \"data01\", \"id\": \"el713214507221392pts\"}, {\"edgecolor\": \"none\", \"facecolor\": \"#D95F02\", \"edgewidth\": 0.5, \"yindex\": 1, \"coordinates\": \"data\", \"zorder\": 2, \"markerpath\": [[[0.0, 9.0], [2.3868279, 9.0], [4.676218837063681, 8.051703224294176], [6.3639610306789285, 6.3639610306789285], [8.051703224294176, 4.676218837063681], [9.0, 2.3868279], [9.0, 0.0], [9.0, -2.3868279], [8.051703224294176, -4.676218837063681], [6.3639610306789285, -6.3639610306789285], [4.676218837063681, -8.051703224294176], [2.3868279, -9.0], [0.0, -9.0], [-2.3868279, -9.0], [-4.676218837063681, -8.051703224294176], [-6.3639610306789285, -6.3639610306789285], [-8.051703224294176, -4.676218837063681], [-9.0, -2.3868279], [-9.0, 0.0], [-9.0, 2.3868279], [-8.051703224294176, 4.676218837063681], [-6.3639610306789285, 6.3639610306789285], [-4.676218837063681, 8.051703224294176], [-2.3868279, 9.0], [0.0, 9.0]], [\"M\", \"C\", \"C\", \"C\", \"C\", \"C\", \"C\", \"C\", \"C\", \"Z\"]], \"alpha\": 1, \"xindex\": 0, \"data\": \"data02\", \"id\": \"el713214492286480pts\"}, {\"edgecolor\": \"none\", \"facecolor\": \"#7570B3\", \"edgewidth\": 0.5, \"yindex\": 1, \"coordinates\": \"data\", \"zorder\": 2, \"markerpath\": [[[0.0, 9.0], [2.3868279, 9.0], [4.676218837063681, 8.051703224294176], [6.3639610306789285, 6.3639610306789285], [8.051703224294176, 4.676218837063681], [9.0, 2.3868279], [9.0, 0.0], [9.0, -2.3868279], [8.051703224294176, -4.676218837063681], [6.3639610306789285, -6.3639610306789285], [4.676218837063681, -8.051703224294176], [2.3868279, -9.0], [0.0, -9.0], [-2.3868279, -9.0], [-4.676218837063681, -8.051703224294176], [-6.3639610306789285, -6.3639610306789285], [-8.051703224294176, -4.676218837063681], [-9.0, -2.3868279], [-9.0, 0.0], [-9.0, 2.3868279], [-8.051703224294176, 4.676218837063681], [-6.3639610306789285, 6.3639610306789285], [-4.676218837063681, 8.051703224294176], [-2.3868279, 9.0], [0.0, 9.0]], [\"M\", \"C\", \"C\", \"C\", \"C\", \"C\", \"C\", \"C\", \"C\", \"Z\"]], \"alpha\": 1, \"xindex\": 0, \"data\": \"data03\", \"id\": \"el713214492286416pts\"}, {\"edgecolor\": \"none\", \"facecolor\": \"#E7298A\", \"edgewidth\": 0.5, \"yindex\": 1, \"coordinates\": \"data\", \"zorder\": 2, \"markerpath\": [[[0.0, 9.0], [2.3868279, 9.0], [4.676218837063681, 8.051703224294176], [6.3639610306789285, 6.3639610306789285], [8.051703224294176, 4.676218837063681], [9.0, 2.3868279], [9.0, 0.0], [9.0, -2.3868279], [8.051703224294176, -4.676218837063681], [6.3639610306789285, -6.3639610306789285], [4.676218837063681, -8.051703224294176], [2.3868279, -9.0], [0.0, -9.0], [-2.3868279, -9.0], [-4.676218837063681, -8.051703224294176], [-6.3639610306789285, -6.3639610306789285], [-8.051703224294176, -4.676218837063681], [-9.0, -2.3868279], [-9.0, 0.0], [-9.0, 2.3868279], [-8.051703224294176, 4.676218837063681], [-6.3639610306789285, 6.3639610306789285], [-4.676218837063681, 8.051703224294176], [-2.3868279, 9.0], [0.0, 9.0]], [\"M\", \"C\", \"C\", \"C\", \"C\", \"C\", \"C\", \"C\", \"C\", \"Z\"]], \"alpha\": 1, \"xindex\": 0, \"data\": \"data04\", \"id\": \"el713214508117648pts\"}, {\"edgecolor\": \"none\", \"facecolor\": \"#66A61E\", \"edgewidth\": 0.5, \"yindex\": 1, \"coordinates\": \"data\", \"zorder\": 2, \"markerpath\": [[[0.0, 9.0], [2.3868279, 9.0], [4.676218837063681, 8.051703224294176], [6.3639610306789285, 6.3639610306789285], [8.051703224294176, 4.676218837063681], [9.0, 2.3868279], [9.0, 0.0], [9.0, -2.3868279], [8.051703224294176, -4.676218837063681], [6.3639610306789285, -6.3639610306789285], [4.676218837063681, -8.051703224294176], [2.3868279, -9.0], [0.0, -9.0], [-2.3868279, -9.0], [-4.676218837063681, -8.051703224294176], [-6.3639610306789285, -6.3639610306789285], [-8.051703224294176, -4.676218837063681], [-9.0, -2.3868279], [-9.0, 0.0], [-9.0, 2.3868279], [-8.051703224294176, 4.676218837063681], [-6.3639610306789285, 6.3639610306789285], [-4.676218837063681, 8.051703224294176], [-2.3868279, 9.0], [0.0, 9.0]], [\"M\", \"C\", \"C\", \"C\", \"C\", \"C\", \"C\", \"C\", \"C\", \"Z\"]], \"alpha\": 1, \"xindex\": 0, \"data\": \"data05\", \"id\": \"el713214492300112pts\"}, {\"edgecolor\": \"none\", \"facecolor\": \"#1B9E77\", \"edgewidth\": 0.5, \"yindex\": 1, \"coordinates\": \"axes\", \"zorder\": 1000002.0, \"markerpath\": [[[0.0, 9.0], [2.3868279, 9.0], [4.676218837063681, 8.051703224294176], [6.3639610306789285, 6.3639610306789285], [8.051703224294176, 4.676218837063681], [9.0, 2.3868279], [9.0, 0.0], [9.0, -2.3868279], [8.051703224294176, -4.676218837063681], [6.3639610306789285, -6.3639610306789285], [4.676218837063681, -8.051703224294176], [2.3868279, -9.0], [0.0, -9.0], [-2.3868279, -9.0], [-4.676218837063681, -8.051703224294176], [-6.3639610306789285, -6.3639610306789285], [-8.051703224294176, -4.676218837063681], [-9.0, -2.3868279], [-9.0, 0.0], [-9.0, 2.3868279], [-8.051703224294176, 4.676218837063681], [-6.3639610306789285, 6.3639610306789285], [-4.676218837063681, 8.051703224294176], [-2.3868279, 9.0], [0.0, 9.0]], [\"M\", \"C\", \"C\", \"C\", \"C\", \"C\", \"C\", \"C\", \"C\", \"Z\"]], \"alpha\": 1, \"xindex\": 0, \"data\": \"data06\", \"id\": \"el713214495189008pts\"}, {\"edgecolor\": \"none\", \"facecolor\": \"#D95F02\", \"edgewidth\": 0.5, \"yindex\": 2, \"coordinates\": \"axes\", \"zorder\": 1000002.0, \"markerpath\": [[[0.0, 9.0], [2.3868279, 9.0], [4.676218837063681, 8.051703224294176], [6.3639610306789285, 6.3639610306789285], [8.051703224294176, 4.676218837063681], [9.0, 2.3868279], [9.0, 0.0], [9.0, -2.3868279], [8.051703224294176, -4.676218837063681], [6.3639610306789285, -6.3639610306789285], [4.676218837063681, -8.051703224294176], [2.3868279, -9.0], [0.0, -9.0], [-2.3868279, -9.0], [-4.676218837063681, -8.051703224294176], [-6.3639610306789285, -6.3639610306789285], [-8.051703224294176, -4.676218837063681], [-9.0, -2.3868279], [-9.0, 0.0], [-9.0, 2.3868279], [-8.051703224294176, 4.676218837063681], [-6.3639610306789285, 6.3639610306789285], [-4.676218837063681, 8.051703224294176], [-2.3868279, 9.0], [0.0, 9.0]], [\"M\", \"C\", \"C\", \"C\", \"C\", \"C\", \"C\", \"C\", \"C\", \"Z\"]], \"alpha\": 1, \"xindex\": 0, \"data\": \"data06\", \"id\": \"el713214495191312pts\"}, {\"edgecolor\": \"none\", \"facecolor\": \"#7570B3\", \"edgewidth\": 0.5, \"yindex\": 3, \"coordinates\": \"axes\", \"zorder\": 1000002.0, \"markerpath\": [[[0.0, 9.0], [2.3868279, 9.0], [4.676218837063681, 8.051703224294176], [6.3639610306789285, 6.3639610306789285], [8.051703224294176, 4.676218837063681], [9.0, 2.3868279], [9.0, 0.0], [9.0, -2.3868279], [8.051703224294176, -4.676218837063681], [6.3639610306789285, -6.3639610306789285], [4.676218837063681, -8.051703224294176], [2.3868279, -9.0], [0.0, -9.0], [-2.3868279, -9.0], [-4.676218837063681, -8.051703224294176], [-6.3639610306789285, -6.3639610306789285], [-8.051703224294176, -4.676218837063681], [-9.0, -2.3868279], [-9.0, 0.0], [-9.0, 2.3868279], [-8.051703224294176, 4.676218837063681], [-6.3639610306789285, 6.3639610306789285], [-4.676218837063681, 8.051703224294176], [-2.3868279, 9.0], [0.0, 9.0]], [\"M\", \"C\", \"C\", \"C\", \"C\", \"C\", \"C\", \"C\", \"C\", \"Z\"]], \"alpha\": 1, \"xindex\": 0, \"data\": \"data06\", \"id\": \"el713214495151952pts\"}, {\"edgecolor\": \"none\", \"facecolor\": \"#E7298A\", \"edgewidth\": 0.5, \"yindex\": 4, \"coordinates\": \"axes\", \"zorder\": 1000002.0, \"markerpath\": [[[0.0, 9.0], [2.3868279, 9.0], [4.676218837063681, 8.051703224294176], [6.3639610306789285, 6.3639610306789285], [8.051703224294176, 4.676218837063681], [9.0, 2.3868279], [9.0, 0.0], [9.0, -2.3868279], [8.051703224294176, -4.676218837063681], [6.3639610306789285, -6.3639610306789285], [4.676218837063681, -8.051703224294176], [2.3868279, -9.0], [0.0, -9.0], [-2.3868279, -9.0], [-4.676218837063681, -8.051703224294176], [-6.3639610306789285, -6.3639610306789285], [-8.051703224294176, -4.676218837063681], [-9.0, -2.3868279], [-9.0, 0.0], [-9.0, 2.3868279], [-8.051703224294176, 4.676218837063681], [-6.3639610306789285, 6.3639610306789285], [-4.676218837063681, 8.051703224294176], [-2.3868279, 9.0], [0.0, 9.0]], [\"M\", \"C\", \"C\", \"C\", \"C\", \"C\", \"C\", \"C\", \"C\", \"Z\"]], \"alpha\": 1, \"xindex\": 0, \"data\": \"data06\", \"id\": \"el713214495154256pts\"}, {\"edgecolor\": \"none\", \"facecolor\": \"#66A61E\", \"edgewidth\": 0.5, \"yindex\": 5, \"coordinates\": \"axes\", \"zorder\": 1000002.0, \"markerpath\": [[[0.0, 9.0], [2.3868279, 9.0], [4.676218837063681, 8.051703224294176], [6.3639610306789285, 6.3639610306789285], [8.051703224294176, 4.676218837063681], [9.0, 2.3868279], [9.0, 0.0], [9.0, -2.3868279], [8.051703224294176, -4.676218837063681], [6.3639610306789285, -6.3639610306789285], [4.676218837063681, -8.051703224294176], [2.3868279, -9.0], [0.0, -9.0], [-2.3868279, -9.0], [-4.676218837063681, -8.051703224294176], [-6.3639610306789285, -6.3639610306789285], [-8.051703224294176, -4.676218837063681], [-9.0, -2.3868279], [-9.0, 0.0], [-9.0, 2.3868279], [-8.051703224294176, 4.676218837063681], [-6.3639610306789285, 6.3639610306789285], [-4.676218837063681, 8.051703224294176], [-2.3868279, 9.0], [0.0, 9.0]], [\"M\", \"C\", \"C\", \"C\", \"C\", \"C\", \"C\", \"C\", \"C\", \"Z\"]], \"alpha\": 1, \"xindex\": 0, \"data\": \"data06\", \"id\": \"el713214495271312pts\"}], \"id\": \"el713214414710480\", \"ydomain\": [-0.87286513505941821, 0.73484332018899401], \"collections\": [], \"xscale\": \"linear\", \"bbox\": [0.125, 0.125, 0.77500000000000002, 0.77500000000000002]}], \"height\": 480.0, \"width\": 1120.0, \"plugins\": [{\"type\": \"reset\"}, {\"enabled\": false, \"button\": true, \"type\": \"zoom\"}, {\"enabled\": false, \"button\": true, \"type\": \"boxzoom\"}, {\"voffset\": 10, \"labels\": [\"The Greatest Showman\", \"Thor: Ragnarok\", \"Star Wars: Episode VIII - The Last Jedi\", \"Justice League\", \"A Series of Unfortunate Events\", \"Murder on the Orient Express\", \"Downsizing\", \"Call Me by Your Name\", \"The Good Fight\", \"The Punisher\", \"Kodachrome\", \"Dunkirk\", \"You Were Never Really Here\", \"Dark\", \"Young Sheldon\", \"Beauty and the Beast\", \"The Orville\", \"Logan Lucky\", \"Father Figures\", \"John Wick: Chapter 2\", \"Bright\", \"Britannia\", \"The Gifted\", \"The Sinner\", \"The Hitman's Bodyguard\"], \"type\": \"htmltooltip\", \"id\": \"el713214507221392pts\", \"hoffset\": 10}, {\"type\": \"toptoolbar\"}, {\"voffset\": 10, \"labels\": [\"I Kill Giants\", \"Pitch Perfect 3\", \"La casa de papel\", \"Molly's Game\", \"Wonder Woman\", \"Get Out\", \"Transformers: The Last Knight\", \"Logan\", \"Mother!\", \"King Arthur: Legend of the Sword\", \"Godless\", \"Iron Fist\", \"Runaways\", \"Going in Style\", \"Tabula Rasa\", \"Geostorm\"], \"type\": \"htmltooltip\", \"id\": \"el713214492286480pts\", \"hoffset\": 10}, {\"type\": \"toptoolbar\"}, {\"voffset\": 10, \"labels\": [\"Santa Clarita Diet\", \"The Shape of Water\", \"All the Money in the World\", \"Three Billboards Outside Ebbing, Missouri\", \"The Handmaid's Tale\", \"Spider-Man: Homecoming\", \"Darkest Hour\", \"Ver\\u00f3nica\", \"Paddington 2\", \"The Florida Project\", \"Ozark\", \"Dog Years\", \"The End of the F***ing World\", \"Alien: Covenant\", \"The Beguiled\", \"Taboo\", \"Pirates of the Caribbean: Dead Men Tell No Tales\", \"A.P. Bio\", \"Kong: Skull Island\", \"Jamestown\", \"Only the Brave\"], \"type\": \"htmltooltip\", \"id\": \"el713214492286416pts\", \"hoffset\": 10}, {\"type\": \"toptoolbar\"}, {\"voffset\": 10, \"labels\": [\"Ferdinand\", \"13 Reasons Why\", \"Blade Runner 2049\", \"Phantom Thread\", \"SEAL Team\", \"Star Trek: Discovery\", \"Power Rangers\", \"Baywatch\", \"The Killing of a Sacred Deer\", \"American Gods\", \"The Ritual\", \"The Square\"], \"type\": \"htmltooltip\", \"id\": \"el713214508117648pts\", \"hoffset\": 10}, {\"type\": \"toptoolbar\"}, {\"voffset\": 10, \"labels\": [\"Jumanji: Welcome to the Jungle\", \"Coco\", \"The Good Doctor\", \"I, Tonya\", \"Counterpart\", \"Atomic Blonde\", \"Wonder\", \"Lady Bird\", \"It\", \"Guardians of the Galaxy Vol. 2\", \"Roxanne Roxanne\", \"The Death of Stalin\", \"Wind River\", \"Legion\", \"The Disaster Artist\", \"Baby Driver\", \"Big Little Lies\", \"Mindhunter\", \"Kingsman: The Golden Circle\", \"Valerian and the City of a Thousand Planets\", \"Dynasty\", \"Chappaquiddick\", \"The Post\", \"Hostiles\", \"Daddy's Home 2\", \"Suburbicon\"], \"type\": \"htmltooltip\", \"id\": \"el713214492300112pts\", \"hoffset\": 10}, {\"type\": \"toptoolbar\"}], \"data\": {\"data06\": [[0.7544462845622121, 0.9534050179211467, 0.9005376344086019, 0.8476702508960573, 0.7948028673835125, 0.7419354838709676]], \"data07\": [[0.7329409082181261, 0.7069892473118278], [0.9923195084485409, 0.7069892473118278], [0.9923195084485409, 0.9820788530465947], [0.7329409082181261, 0.9820788530465947]], \"data04\": [[0.1736919198638196, 0.1234407006023813], [0.2436200916873072, -0.52768788455603], [0.13009718295467684, 0.23244414544634479], [-0.2928355971095221, 0.1410862801738957], [0.2729425668785151, 0.5523186653326415], [0.6008102087407622, 0.2578347793177926], [0.4436367708037022, 0.007013134554397783], [0.38232604623998834, 0.21124574052826142], [-0.06398767209590858, 0.30925093666096787], [0.07170718482621508, 0.3712291993168509], [0.1326513395259823, 0.5102551149187002], [0.6943141196780926, 0.4232906852746088]], \"data05\": [[-0.5034099241697152, 0.20117440814572163], [-0.3122841605732964, -0.36082579927740477], [0.6732763580880431, -0.27648353304045925], [-0.2864047879057714, -0.2599437693543846], [-0.47932205769910136, 0.3065848559866677], [-0.5328220577910332, -0.11189041359068927], [-0.5353066259528617, -0.17685700164882895], [-0.5148724207407983, -0.28193896798818296], [-0.21232325722145295, -0.26291066068450664], [-0.08411054017399003, -0.5656246168976516], [-0.23738808164992062, -0.12857845412036972], [-0.30396772864243843, -0.11688021275957738], [-0.39145402442730076, 0.25078976409695897], [-0.3601050758016082, -0.23456779640348743], [-0.6312605198668397, -0.20462960737657124], [-0.14289681368019266, -0.4211745119910764], [-0.43466823666720383, 0.012041911802577467], [0.04326892852895822, -0.6212236984677526], [-0.4160691386675823, -0.18094438707490731], [-0.4567010728781656, -0.31711459900915645], [-0.3409773119787017, -0.05374075457430377], [0.6912291824631079, -0.4260362713462507], [-0.47524120604146647, -0.7250909121315343], [-0.008022666884160043, 0.6139117554113885], [0.44137073808594784, -0.44846145757731426], [0.5698308072592746, -0.554872540388361]], \"data02\": [[-0.4260269635546792, 0.07630538819013696], [-0.008120873672254636, 0.42996769799080015], [0.27451237304091175, 0.3498169741969227], [-0.012438294601369665, 0.23576784409808307], [0.024857966587026846, -0.4119476659489259], [0.41599149015154285, 0.08828722571338883], [-0.7758646984270088, 0.37337471727810106], [0.07434875204775188, -0.03290668490233116], [-0.11277822175164781, 0.25716850335694647], [-0.10095606143230686, -0.01805984684863088], [-0.23513034172314967, 0.1575487792939255], [0.04519543287824311, 0.12515742607799688], [-0.3105104353729653, 0.4229357449774255], [0.38169581868567487, 0.019535030096965264], [-0.1388585355776826, 0.1648928503077102], [-0.057021338995832664, 0.15821541880169146]], \"data03\": [[0.210785011975699, -0.0777650280824059], [0.42349723854395377, 0.4034885315601747], [0.07117038202028804, 0.5525752835133435], [0.20265843361319044, 0.009365023300699866], [-0.11701559251562842, 0.08668644910902362], [0.2955715971287281, -0.6197591171467741], [-0.16683195881508833, 0.3361091544253937], [-0.16032732353954007, 0.5254485617633905], [0.1123318156145579, -0.30473115758334446], [-0.2270605060288298, -0.5607364098148404], [-0.28083621391657665, 0.6044816520348851], [0.23921533401971445, -0.15369257849794024], [0.7909592869513634, 0.13893046884049606], [0.6543445776907268, 0.0606146802904095], [0.5971035719438459, -0.16249802258503707], [0.29260526916654367, -0.47744560831764904], [0.4530115278101791, 0.15922950175117204], [0.4835415544944882, 0.5164262728347718], [-0.11079161306282234, -0.8273639523637084], [-0.28746791896681545, 0.33163001136677717], [-0.24640710664779936, 0.4775421108331806]], \"data01\": [[-0.5621789760064216, -0.03775837414300215], [-0.5558264828259558, 0.13082222759951814], [-0.051169110954400056, -0.03218817070552611], [-0.06586254297267381, -0.3227676016097853], [-0.42883521934284347, -0.47424348213490236], [0.2416497434649107, -0.33323175776597], [-0.060919236099971984, 0.4278570525350336], [-0.2627373281878346, -0.5140685811702042], [-0.59884496658824, 0.06404854193096232], [0.3900102419580246, -0.27012305778071666], [-0.27691933193142576, 0.2243405740260568], [-0.4380318238214921, 0.41168936987820287], [-0.0009717827327016971, -0.46688786939090937], [0.19456022864659642, -0.20512698461221227], [0.07496661937468738, -0.15606599987022196], [0.20488650119637136, 0.3913396819950895], [-0.09778623783820029, 0.6232611321145621], [0.32264085104932017, 0.2874814081206258], [0.4039745338594567, 0.6893421374932842], [0.3627453989663955, -0.14544451237180078], [0.4601236477486721, -0.2709431308086578], [-0.04736264523665594, -0.21998918438950787], [0.09928783814039419, 0.30561989842625575], [0.0971444266434291, -0.7579873708940535], [0.7781597507227644, -0.03000540369570065]]}, \"id\": \"el713214414596112\"});\n",
       "      });\n",
       "    });\n",
       "}else{\n",
       "    // require.js not available: dynamically load d3 & mpld3\n",
       "    mpld3_load_lib(\"https://mpld3.github.io/js/d3.v3.min.js\", function(){\n",
       "         mpld3_load_lib(\"https://mpld3.github.io/js/mpld3.v0.2.js\", function(){\n",
       "                 \n",
       "    mpld3.register_plugin(\"htmltooltip\", HtmlTooltipPlugin);\n",
       "    HtmlTooltipPlugin.prototype = Object.create(mpld3.Plugin.prototype);\n",
       "    HtmlTooltipPlugin.prototype.constructor = HtmlTooltipPlugin;\n",
       "    HtmlTooltipPlugin.prototype.requiredProps = [\"id\"];\n",
       "    HtmlTooltipPlugin.prototype.defaultProps = {labels:null, hoffset:0, voffset:10};\n",
       "    function HtmlTooltipPlugin(fig, props){\n",
       "        mpld3.Plugin.call(this, fig, props);\n",
       "    };\n",
       "\n",
       "    HtmlTooltipPlugin.prototype.draw = function(){\n",
       "       var obj = mpld3.get_element(this.props.id);\n",
       "       var labels = this.props.labels;\n",
       "       var tooltip = d3.select(\"body\").append(\"div\")\n",
       "                    .attr(\"class\", \"mpld3-tooltip\")\n",
       "                    .style(\"position\", \"absolute\")\n",
       "                    .style(\"z-index\", \"10\")\n",
       "                    .style(\"visibility\", \"hidden\");\n",
       "\n",
       "       obj.elements()\n",
       "           .on(\"mouseover\", function(d, i){\n",
       "                              tooltip.html(labels[i])\n",
       "                                     .style(\"visibility\", \"visible\");})\n",
       "           .on(\"mousemove\", function(d, i){\n",
       "                    tooltip\n",
       "                      .style(\"top\", d3.event.pageY + this.props.voffset + \"px\")\n",
       "                      .style(\"left\",d3.event.pageX + this.props.hoffset + \"px\");\n",
       "                 }.bind(this))\n",
       "           .on(\"mouseout\",  function(d, i){\n",
       "                           tooltip.style(\"visibility\", \"hidden\");});\n",
       "    };\n",
       "    \n",
       "    mpld3.register_plugin(\"toptoolbar\", TopToolbar);\n",
       "    TopToolbar.prototype = Object.create(mpld3.Plugin.prototype);\n",
       "    TopToolbar.prototype.constructor = TopToolbar;\n",
       "    function TopToolbar(fig, props){\n",
       "        mpld3.Plugin.call(this, fig, props);\n",
       "    };\n",
       "\n",
       "    TopToolbar.prototype.draw = function(){\n",
       "      // the toolbar svg doesn't exist\n",
       "      // yet, so first draw it\n",
       "      this.fig.toolbar.draw();\n",
       "\n",
       "      // then change the y position to be\n",
       "      // at the top of the figure\n",
       "      this.fig.toolbar.toolbar.attr(\"x\", 150);\n",
       "      this.fig.toolbar.toolbar.attr(\"y\", 400);\n",
       "\n",
       "      // then remove the draw function,\n",
       "      // so that it is not called again\n",
       "      this.fig.toolbar.draw = function() {}\n",
       "    }\n",
       "    \n",
       "    mpld3.register_plugin(\"htmltooltip\", HtmlTooltipPlugin);\n",
       "    HtmlTooltipPlugin.prototype = Object.create(mpld3.Plugin.prototype);\n",
       "    HtmlTooltipPlugin.prototype.constructor = HtmlTooltipPlugin;\n",
       "    HtmlTooltipPlugin.prototype.requiredProps = [\"id\"];\n",
       "    HtmlTooltipPlugin.prototype.defaultProps = {labels:null, hoffset:0, voffset:10};\n",
       "    function HtmlTooltipPlugin(fig, props){\n",
       "        mpld3.Plugin.call(this, fig, props);\n",
       "    };\n",
       "\n",
       "    HtmlTooltipPlugin.prototype.draw = function(){\n",
       "       var obj = mpld3.get_element(this.props.id);\n",
       "       var labels = this.props.labels;\n",
       "       var tooltip = d3.select(\"body\").append(\"div\")\n",
       "                    .attr(\"class\", \"mpld3-tooltip\")\n",
       "                    .style(\"position\", \"absolute\")\n",
       "                    .style(\"z-index\", \"10\")\n",
       "                    .style(\"visibility\", \"hidden\");\n",
       "\n",
       "       obj.elements()\n",
       "           .on(\"mouseover\", function(d, i){\n",
       "                              tooltip.html(labels[i])\n",
       "                                     .style(\"visibility\", \"visible\");})\n",
       "           .on(\"mousemove\", function(d, i){\n",
       "                    tooltip\n",
       "                      .style(\"top\", d3.event.pageY + this.props.voffset + \"px\")\n",
       "                      .style(\"left\",d3.event.pageX + this.props.hoffset + \"px\");\n",
       "                 }.bind(this))\n",
       "           .on(\"mouseout\",  function(d, i){\n",
       "                           tooltip.style(\"visibility\", \"hidden\");});\n",
       "    };\n",
       "    \n",
       "    mpld3.register_plugin(\"toptoolbar\", TopToolbar);\n",
       "    TopToolbar.prototype = Object.create(mpld3.Plugin.prototype);\n",
       "    TopToolbar.prototype.constructor = TopToolbar;\n",
       "    function TopToolbar(fig, props){\n",
       "        mpld3.Plugin.call(this, fig, props);\n",
       "    };\n",
       "\n",
       "    TopToolbar.prototype.draw = function(){\n",
       "      // the toolbar svg doesn't exist\n",
       "      // yet, so first draw it\n",
       "      this.fig.toolbar.draw();\n",
       "\n",
       "      // then change the y position to be\n",
       "      // at the top of the figure\n",
       "      this.fig.toolbar.toolbar.attr(\"x\", 150);\n",
       "      this.fig.toolbar.toolbar.attr(\"y\", 400);\n",
       "\n",
       "      // then remove the draw function,\n",
       "      // so that it is not called again\n",
       "      this.fig.toolbar.draw = function() {}\n",
       "    }\n",
       "    \n",
       "    mpld3.register_plugin(\"htmltooltip\", HtmlTooltipPlugin);\n",
       "    HtmlTooltipPlugin.prototype = Object.create(mpld3.Plugin.prototype);\n",
       "    HtmlTooltipPlugin.prototype.constructor = HtmlTooltipPlugin;\n",
       "    HtmlTooltipPlugin.prototype.requiredProps = [\"id\"];\n",
       "    HtmlTooltipPlugin.prototype.defaultProps = {labels:null, hoffset:0, voffset:10};\n",
       "    function HtmlTooltipPlugin(fig, props){\n",
       "        mpld3.Plugin.call(this, fig, props);\n",
       "    };\n",
       "\n",
       "    HtmlTooltipPlugin.prototype.draw = function(){\n",
       "       var obj = mpld3.get_element(this.props.id);\n",
       "       var labels = this.props.labels;\n",
       "       var tooltip = d3.select(\"body\").append(\"div\")\n",
       "                    .attr(\"class\", \"mpld3-tooltip\")\n",
       "                    .style(\"position\", \"absolute\")\n",
       "                    .style(\"z-index\", \"10\")\n",
       "                    .style(\"visibility\", \"hidden\");\n",
       "\n",
       "       obj.elements()\n",
       "           .on(\"mouseover\", function(d, i){\n",
       "                              tooltip.html(labels[i])\n",
       "                                     .style(\"visibility\", \"visible\");})\n",
       "           .on(\"mousemove\", function(d, i){\n",
       "                    tooltip\n",
       "                      .style(\"top\", d3.event.pageY + this.props.voffset + \"px\")\n",
       "                      .style(\"left\",d3.event.pageX + this.props.hoffset + \"px\");\n",
       "                 }.bind(this))\n",
       "           .on(\"mouseout\",  function(d, i){\n",
       "                           tooltip.style(\"visibility\", \"hidden\");});\n",
       "    };\n",
       "    \n",
       "    mpld3.register_plugin(\"toptoolbar\", TopToolbar);\n",
       "    TopToolbar.prototype = Object.create(mpld3.Plugin.prototype);\n",
       "    TopToolbar.prototype.constructor = TopToolbar;\n",
       "    function TopToolbar(fig, props){\n",
       "        mpld3.Plugin.call(this, fig, props);\n",
       "    };\n",
       "\n",
       "    TopToolbar.prototype.draw = function(){\n",
       "      // the toolbar svg doesn't exist\n",
       "      // yet, so first draw it\n",
       "      this.fig.toolbar.draw();\n",
       "\n",
       "      // then change the y position to be\n",
       "      // at the top of the figure\n",
       "      this.fig.toolbar.toolbar.attr(\"x\", 150);\n",
       "      this.fig.toolbar.toolbar.attr(\"y\", 400);\n",
       "\n",
       "      // then remove the draw function,\n",
       "      // so that it is not called again\n",
       "      this.fig.toolbar.draw = function() {}\n",
       "    }\n",
       "    \n",
       "    mpld3.register_plugin(\"htmltooltip\", HtmlTooltipPlugin);\n",
       "    HtmlTooltipPlugin.prototype = Object.create(mpld3.Plugin.prototype);\n",
       "    HtmlTooltipPlugin.prototype.constructor = HtmlTooltipPlugin;\n",
       "    HtmlTooltipPlugin.prototype.requiredProps = [\"id\"];\n",
       "    HtmlTooltipPlugin.prototype.defaultProps = {labels:null, hoffset:0, voffset:10};\n",
       "    function HtmlTooltipPlugin(fig, props){\n",
       "        mpld3.Plugin.call(this, fig, props);\n",
       "    };\n",
       "\n",
       "    HtmlTooltipPlugin.prototype.draw = function(){\n",
       "       var obj = mpld3.get_element(this.props.id);\n",
       "       var labels = this.props.labels;\n",
       "       var tooltip = d3.select(\"body\").append(\"div\")\n",
       "                    .attr(\"class\", \"mpld3-tooltip\")\n",
       "                    .style(\"position\", \"absolute\")\n",
       "                    .style(\"z-index\", \"10\")\n",
       "                    .style(\"visibility\", \"hidden\");\n",
       "\n",
       "       obj.elements()\n",
       "           .on(\"mouseover\", function(d, i){\n",
       "                              tooltip.html(labels[i])\n",
       "                                     .style(\"visibility\", \"visible\");})\n",
       "           .on(\"mousemove\", function(d, i){\n",
       "                    tooltip\n",
       "                      .style(\"top\", d3.event.pageY + this.props.voffset + \"px\")\n",
       "                      .style(\"left\",d3.event.pageX + this.props.hoffset + \"px\");\n",
       "                 }.bind(this))\n",
       "           .on(\"mouseout\",  function(d, i){\n",
       "                           tooltip.style(\"visibility\", \"hidden\");});\n",
       "    };\n",
       "    \n",
       "    mpld3.register_plugin(\"toptoolbar\", TopToolbar);\n",
       "    TopToolbar.prototype = Object.create(mpld3.Plugin.prototype);\n",
       "    TopToolbar.prototype.constructor = TopToolbar;\n",
       "    function TopToolbar(fig, props){\n",
       "        mpld3.Plugin.call(this, fig, props);\n",
       "    };\n",
       "\n",
       "    TopToolbar.prototype.draw = function(){\n",
       "      // the toolbar svg doesn't exist\n",
       "      // yet, so first draw it\n",
       "      this.fig.toolbar.draw();\n",
       "\n",
       "      // then change the y position to be\n",
       "      // at the top of the figure\n",
       "      this.fig.toolbar.toolbar.attr(\"x\", 150);\n",
       "      this.fig.toolbar.toolbar.attr(\"y\", 400);\n",
       "\n",
       "      // then remove the draw function,\n",
       "      // so that it is not called again\n",
       "      this.fig.toolbar.draw = function() {}\n",
       "    }\n",
       "    \n",
       "    mpld3.register_plugin(\"htmltooltip\", HtmlTooltipPlugin);\n",
       "    HtmlTooltipPlugin.prototype = Object.create(mpld3.Plugin.prototype);\n",
       "    HtmlTooltipPlugin.prototype.constructor = HtmlTooltipPlugin;\n",
       "    HtmlTooltipPlugin.prototype.requiredProps = [\"id\"];\n",
       "    HtmlTooltipPlugin.prototype.defaultProps = {labels:null, hoffset:0, voffset:10};\n",
       "    function HtmlTooltipPlugin(fig, props){\n",
       "        mpld3.Plugin.call(this, fig, props);\n",
       "    };\n",
       "\n",
       "    HtmlTooltipPlugin.prototype.draw = function(){\n",
       "       var obj = mpld3.get_element(this.props.id);\n",
       "       var labels = this.props.labels;\n",
       "       var tooltip = d3.select(\"body\").append(\"div\")\n",
       "                    .attr(\"class\", \"mpld3-tooltip\")\n",
       "                    .style(\"position\", \"absolute\")\n",
       "                    .style(\"z-index\", \"10\")\n",
       "                    .style(\"visibility\", \"hidden\");\n",
       "\n",
       "       obj.elements()\n",
       "           .on(\"mouseover\", function(d, i){\n",
       "                              tooltip.html(labels[i])\n",
       "                                     .style(\"visibility\", \"visible\");})\n",
       "           .on(\"mousemove\", function(d, i){\n",
       "                    tooltip\n",
       "                      .style(\"top\", d3.event.pageY + this.props.voffset + \"px\")\n",
       "                      .style(\"left\",d3.event.pageX + this.props.hoffset + \"px\");\n",
       "                 }.bind(this))\n",
       "           .on(\"mouseout\",  function(d, i){\n",
       "                           tooltip.style(\"visibility\", \"hidden\");});\n",
       "    };\n",
       "    \n",
       "    mpld3.register_plugin(\"toptoolbar\", TopToolbar);\n",
       "    TopToolbar.prototype = Object.create(mpld3.Plugin.prototype);\n",
       "    TopToolbar.prototype.constructor = TopToolbar;\n",
       "    function TopToolbar(fig, props){\n",
       "        mpld3.Plugin.call(this, fig, props);\n",
       "    };\n",
       "\n",
       "    TopToolbar.prototype.draw = function(){\n",
       "      // the toolbar svg doesn't exist\n",
       "      // yet, so first draw it\n",
       "      this.fig.toolbar.draw();\n",
       "\n",
       "      // then change the y position to be\n",
       "      // at the top of the figure\n",
       "      this.fig.toolbar.toolbar.attr(\"x\", 150);\n",
       "      this.fig.toolbar.toolbar.attr(\"y\", 400);\n",
       "\n",
       "      // then remove the draw function,\n",
       "      // so that it is not called again\n",
       "      this.fig.toolbar.draw = function() {}\n",
       "    }\n",
       "    \n",
       "                 mpld3.draw_figure(\"fig_el7132144145961123136210687\", {\"axes\": [{\"xlim\": [-0.82286941798836, 0.83796400651271452], \"yscale\": \"linear\", \"axesbg\": \"#FFFFFF\", \"texts\": [{\"v_baseline\": \"auto\", \"h_anchor\": \"start\", \"color\": \"#000000\", \"text\": \"None\", \"coordinates\": \"axes\", \"zorder\": 1000003.0, \"alpha\": 1, \"fontsize\": 10.0, \"position\": [-0.16129032258064516, -0.16129032258064518], \"rotation\": -0.0, \"id\": \"el713214495272592\"}, {\"v_baseline\": \"auto\", \"h_anchor\": \"start\", \"color\": \"#000000\", \"text\": \"Family, home, war\", \"coordinates\": \"axes\", \"zorder\": 1000003.0, \"alpha\": 1, \"fontsize\": 12.0, \"position\": [0.78209605414746564, 0.94086021505376327], \"rotation\": -0.0, \"id\": \"el713214492369424\"}, {\"v_baseline\": \"auto\", \"h_anchor\": \"start\", \"color\": \"#000000\", \"text\": \"Police, killed, murders\", \"coordinates\": \"axes\", \"zorder\": 1000003.0, \"alpha\": 1, \"fontsize\": 12.0, \"position\": [0.78209605414746564, 0.88799283154121844], \"rotation\": -0.0, \"id\": \"el713214495189904\"}, {\"v_baseline\": \"auto\", \"h_anchor\": \"start\", \"color\": \"#000000\", \"text\": \"Father, New York, brothers\", \"coordinates\": \"axes\", \"zorder\": 1000003.0, \"alpha\": 1, \"fontsize\": 12.0, \"position\": [0.78209605414746564, 0.83512544802867383], \"rotation\": -0.0, \"id\": \"el713214495189392\"}, {\"v_baseline\": \"auto\", \"h_anchor\": \"start\", \"color\": \"#000000\", \"text\": \"Dance, singing, love\", \"coordinates\": \"axes\", \"zorder\": 1000003.0, \"alpha\": 1, \"fontsize\": 12.0, \"position\": [0.78209605414746564, 0.782258064516129], \"rotation\": -0.0, \"id\": \"el713214495152848\"}, {\"v_baseline\": \"auto\", \"h_anchor\": \"start\", \"color\": \"#000000\", \"text\": \"Killed, soldiers, captain\", \"coordinates\": \"axes\", \"zorder\": 1000003.0, \"alpha\": 1, \"fontsize\": 12.0, \"position\": [0.78209605414746564, 0.72939068100358417], \"rotation\": -0.0, \"id\": \"el713214495155152\"}], \"zoomable\": true, \"images\": [], \"xdomain\": [-0.82286941798836, 0.83796400651271452], \"ylim\": [-0.87286513505941821, 0.73484332018899401], \"paths\": [{\"edgecolor\": \"#000000\", \"facecolor\": \"#FFFFFF\", \"edgewidth\": 1.0, \"pathcodes\": [\"M\", \"L\", \"L\", \"L\", \"Z\"], \"yindex\": 1, \"coordinates\": \"axes\", \"dasharray\": \"10,0\", \"zorder\": 1000001.0, \"alpha\": 1, \"xindex\": 0, \"data\": \"data07\", \"id\": \"el713214492286288\"}], \"sharey\": [], \"sharex\": [], \"axesbgalpha\": null, \"axes\": [{\"scale\": \"linear\", \"tickformat\": \"\", \"grid\": {\"gridOn\": false}, \"fontsize\": null, \"position\": \"bottom\", \"nticks\": 0, \"tickvalues\": []}, {\"scale\": \"linear\", \"tickformat\": \"\", \"grid\": {\"gridOn\": false}, \"fontsize\": null, \"position\": \"left\", \"nticks\": 0, \"tickvalues\": []}], \"lines\": [], \"markers\": [{\"edgecolor\": \"none\", \"facecolor\": \"#1B9E77\", \"edgewidth\": 0.5, \"yindex\": 1, \"coordinates\": \"data\", \"zorder\": 2, \"markerpath\": [[[0.0, 9.0], [2.3868279, 9.0], [4.676218837063681, 8.051703224294176], [6.3639610306789285, 6.3639610306789285], [8.051703224294176, 4.676218837063681], [9.0, 2.3868279], [9.0, 0.0], [9.0, -2.3868279], [8.051703224294176, -4.676218837063681], [6.3639610306789285, -6.3639610306789285], [4.676218837063681, -8.051703224294176], [2.3868279, -9.0], [0.0, -9.0], [-2.3868279, -9.0], [-4.676218837063681, -8.051703224294176], [-6.3639610306789285, -6.3639610306789285], [-8.051703224294176, -4.676218837063681], [-9.0, -2.3868279], [-9.0, 0.0], [-9.0, 2.3868279], [-8.051703224294176, 4.676218837063681], [-6.3639610306789285, 6.3639610306789285], [-4.676218837063681, 8.051703224294176], [-2.3868279, 9.0], [0.0, 9.0]], [\"M\", \"C\", \"C\", \"C\", \"C\", \"C\", \"C\", \"C\", \"C\", \"Z\"]], \"alpha\": 1, \"xindex\": 0, \"data\": \"data01\", \"id\": \"el713214507221392pts\"}, {\"edgecolor\": \"none\", \"facecolor\": \"#D95F02\", \"edgewidth\": 0.5, \"yindex\": 1, \"coordinates\": \"data\", \"zorder\": 2, \"markerpath\": [[[0.0, 9.0], [2.3868279, 9.0], [4.676218837063681, 8.051703224294176], [6.3639610306789285, 6.3639610306789285], [8.051703224294176, 4.676218837063681], [9.0, 2.3868279], [9.0, 0.0], [9.0, -2.3868279], [8.051703224294176, -4.676218837063681], [6.3639610306789285, -6.3639610306789285], [4.676218837063681, -8.051703224294176], [2.3868279, -9.0], [0.0, -9.0], [-2.3868279, -9.0], [-4.676218837063681, -8.051703224294176], [-6.3639610306789285, -6.3639610306789285], [-8.051703224294176, -4.676218837063681], [-9.0, -2.3868279], [-9.0, 0.0], [-9.0, 2.3868279], [-8.051703224294176, 4.676218837063681], [-6.3639610306789285, 6.3639610306789285], [-4.676218837063681, 8.051703224294176], [-2.3868279, 9.0], [0.0, 9.0]], [\"M\", \"C\", \"C\", \"C\", \"C\", \"C\", \"C\", \"C\", \"C\", \"Z\"]], \"alpha\": 1, \"xindex\": 0, \"data\": \"data02\", \"id\": \"el713214492286480pts\"}, {\"edgecolor\": \"none\", \"facecolor\": \"#7570B3\", \"edgewidth\": 0.5, \"yindex\": 1, \"coordinates\": \"data\", \"zorder\": 2, \"markerpath\": [[[0.0, 9.0], [2.3868279, 9.0], [4.676218837063681, 8.051703224294176], [6.3639610306789285, 6.3639610306789285], [8.051703224294176, 4.676218837063681], [9.0, 2.3868279], [9.0, 0.0], [9.0, -2.3868279], [8.051703224294176, -4.676218837063681], [6.3639610306789285, -6.3639610306789285], [4.676218837063681, -8.051703224294176], [2.3868279, -9.0], [0.0, -9.0], [-2.3868279, -9.0], [-4.676218837063681, -8.051703224294176], [-6.3639610306789285, -6.3639610306789285], [-8.051703224294176, -4.676218837063681], [-9.0, -2.3868279], [-9.0, 0.0], [-9.0, 2.3868279], [-8.051703224294176, 4.676218837063681], [-6.3639610306789285, 6.3639610306789285], [-4.676218837063681, 8.051703224294176], [-2.3868279, 9.0], [0.0, 9.0]], [\"M\", \"C\", \"C\", \"C\", \"C\", \"C\", \"C\", \"C\", \"C\", \"Z\"]], \"alpha\": 1, \"xindex\": 0, \"data\": \"data03\", \"id\": \"el713214492286416pts\"}, {\"edgecolor\": \"none\", \"facecolor\": \"#E7298A\", \"edgewidth\": 0.5, \"yindex\": 1, \"coordinates\": \"data\", \"zorder\": 2, \"markerpath\": [[[0.0, 9.0], [2.3868279, 9.0], [4.676218837063681, 8.051703224294176], [6.3639610306789285, 6.3639610306789285], [8.051703224294176, 4.676218837063681], [9.0, 2.3868279], [9.0, 0.0], [9.0, -2.3868279], [8.051703224294176, -4.676218837063681], [6.3639610306789285, -6.3639610306789285], [4.676218837063681, -8.051703224294176], [2.3868279, -9.0], [0.0, -9.0], [-2.3868279, -9.0], [-4.676218837063681, -8.051703224294176], [-6.3639610306789285, -6.3639610306789285], [-8.051703224294176, -4.676218837063681], [-9.0, -2.3868279], [-9.0, 0.0], [-9.0, 2.3868279], [-8.051703224294176, 4.676218837063681], [-6.3639610306789285, 6.3639610306789285], [-4.676218837063681, 8.051703224294176], [-2.3868279, 9.0], [0.0, 9.0]], [\"M\", \"C\", \"C\", \"C\", \"C\", \"C\", \"C\", \"C\", \"C\", \"Z\"]], \"alpha\": 1, \"xindex\": 0, \"data\": \"data04\", \"id\": \"el713214508117648pts\"}, {\"edgecolor\": \"none\", \"facecolor\": \"#66A61E\", \"edgewidth\": 0.5, \"yindex\": 1, \"coordinates\": \"data\", \"zorder\": 2, \"markerpath\": [[[0.0, 9.0], [2.3868279, 9.0], [4.676218837063681, 8.051703224294176], [6.3639610306789285, 6.3639610306789285], [8.051703224294176, 4.676218837063681], [9.0, 2.3868279], [9.0, 0.0], [9.0, -2.3868279], [8.051703224294176, -4.676218837063681], [6.3639610306789285, -6.3639610306789285], [4.676218837063681, -8.051703224294176], [2.3868279, -9.0], [0.0, -9.0], [-2.3868279, -9.0], [-4.676218837063681, -8.051703224294176], [-6.3639610306789285, -6.3639610306789285], [-8.051703224294176, -4.676218837063681], [-9.0, -2.3868279], [-9.0, 0.0], [-9.0, 2.3868279], [-8.051703224294176, 4.676218837063681], [-6.3639610306789285, 6.3639610306789285], [-4.676218837063681, 8.051703224294176], [-2.3868279, 9.0], [0.0, 9.0]], [\"M\", \"C\", \"C\", \"C\", \"C\", \"C\", \"C\", \"C\", \"C\", \"Z\"]], \"alpha\": 1, \"xindex\": 0, \"data\": \"data05\", \"id\": \"el713214492300112pts\"}, {\"edgecolor\": \"none\", \"facecolor\": \"#1B9E77\", \"edgewidth\": 0.5, \"yindex\": 1, \"coordinates\": \"axes\", \"zorder\": 1000002.0, \"markerpath\": [[[0.0, 9.0], [2.3868279, 9.0], [4.676218837063681, 8.051703224294176], [6.3639610306789285, 6.3639610306789285], [8.051703224294176, 4.676218837063681], [9.0, 2.3868279], [9.0, 0.0], [9.0, -2.3868279], [8.051703224294176, -4.676218837063681], [6.3639610306789285, -6.3639610306789285], [4.676218837063681, -8.051703224294176], [2.3868279, -9.0], [0.0, -9.0], [-2.3868279, -9.0], [-4.676218837063681, -8.051703224294176], [-6.3639610306789285, -6.3639610306789285], [-8.051703224294176, -4.676218837063681], [-9.0, -2.3868279], [-9.0, 0.0], [-9.0, 2.3868279], [-8.051703224294176, 4.676218837063681], [-6.3639610306789285, 6.3639610306789285], [-4.676218837063681, 8.051703224294176], [-2.3868279, 9.0], [0.0, 9.0]], [\"M\", \"C\", \"C\", \"C\", \"C\", \"C\", \"C\", \"C\", \"C\", \"Z\"]], \"alpha\": 1, \"xindex\": 0, \"data\": \"data06\", \"id\": \"el713214495189008pts\"}, {\"edgecolor\": \"none\", \"facecolor\": \"#D95F02\", \"edgewidth\": 0.5, \"yindex\": 2, \"coordinates\": \"axes\", \"zorder\": 1000002.0, \"markerpath\": [[[0.0, 9.0], [2.3868279, 9.0], [4.676218837063681, 8.051703224294176], [6.3639610306789285, 6.3639610306789285], [8.051703224294176, 4.676218837063681], [9.0, 2.3868279], [9.0, 0.0], [9.0, -2.3868279], [8.051703224294176, -4.676218837063681], [6.3639610306789285, -6.3639610306789285], [4.676218837063681, -8.051703224294176], [2.3868279, -9.0], [0.0, -9.0], [-2.3868279, -9.0], [-4.676218837063681, -8.051703224294176], [-6.3639610306789285, -6.3639610306789285], [-8.051703224294176, -4.676218837063681], [-9.0, -2.3868279], [-9.0, 0.0], [-9.0, 2.3868279], [-8.051703224294176, 4.676218837063681], [-6.3639610306789285, 6.3639610306789285], [-4.676218837063681, 8.051703224294176], [-2.3868279, 9.0], [0.0, 9.0]], [\"M\", \"C\", \"C\", \"C\", \"C\", \"C\", \"C\", \"C\", \"C\", \"Z\"]], \"alpha\": 1, \"xindex\": 0, \"data\": \"data06\", \"id\": \"el713214495191312pts\"}, {\"edgecolor\": \"none\", \"facecolor\": \"#7570B3\", \"edgewidth\": 0.5, \"yindex\": 3, \"coordinates\": \"axes\", \"zorder\": 1000002.0, \"markerpath\": [[[0.0, 9.0], [2.3868279, 9.0], [4.676218837063681, 8.051703224294176], [6.3639610306789285, 6.3639610306789285], [8.051703224294176, 4.676218837063681], [9.0, 2.3868279], [9.0, 0.0], [9.0, -2.3868279], [8.051703224294176, -4.676218837063681], [6.3639610306789285, -6.3639610306789285], [4.676218837063681, -8.051703224294176], [2.3868279, -9.0], [0.0, -9.0], [-2.3868279, -9.0], [-4.676218837063681, -8.051703224294176], [-6.3639610306789285, -6.3639610306789285], [-8.051703224294176, -4.676218837063681], [-9.0, -2.3868279], [-9.0, 0.0], [-9.0, 2.3868279], [-8.051703224294176, 4.676218837063681], [-6.3639610306789285, 6.3639610306789285], [-4.676218837063681, 8.051703224294176], [-2.3868279, 9.0], [0.0, 9.0]], [\"M\", \"C\", \"C\", \"C\", \"C\", \"C\", \"C\", \"C\", \"C\", \"Z\"]], \"alpha\": 1, \"xindex\": 0, \"data\": \"data06\", \"id\": \"el713214495151952pts\"}, {\"edgecolor\": \"none\", \"facecolor\": \"#E7298A\", \"edgewidth\": 0.5, \"yindex\": 4, \"coordinates\": \"axes\", \"zorder\": 1000002.0, \"markerpath\": [[[0.0, 9.0], [2.3868279, 9.0], [4.676218837063681, 8.051703224294176], [6.3639610306789285, 6.3639610306789285], [8.051703224294176, 4.676218837063681], [9.0, 2.3868279], [9.0, 0.0], [9.0, -2.3868279], [8.051703224294176, -4.676218837063681], [6.3639610306789285, -6.3639610306789285], [4.676218837063681, -8.051703224294176], [2.3868279, -9.0], [0.0, -9.0], [-2.3868279, -9.0], [-4.676218837063681, -8.051703224294176], [-6.3639610306789285, -6.3639610306789285], [-8.051703224294176, -4.676218837063681], [-9.0, -2.3868279], [-9.0, 0.0], [-9.0, 2.3868279], [-8.051703224294176, 4.676218837063681], [-6.3639610306789285, 6.3639610306789285], [-4.676218837063681, 8.051703224294176], [-2.3868279, 9.0], [0.0, 9.0]], [\"M\", \"C\", \"C\", \"C\", \"C\", \"C\", \"C\", \"C\", \"C\", \"Z\"]], \"alpha\": 1, \"xindex\": 0, \"data\": \"data06\", \"id\": \"el713214495154256pts\"}, {\"edgecolor\": \"none\", \"facecolor\": \"#66A61E\", \"edgewidth\": 0.5, \"yindex\": 5, \"coordinates\": \"axes\", \"zorder\": 1000002.0, \"markerpath\": [[[0.0, 9.0], [2.3868279, 9.0], [4.676218837063681, 8.051703224294176], [6.3639610306789285, 6.3639610306789285], [8.051703224294176, 4.676218837063681], [9.0, 2.3868279], [9.0, 0.0], [9.0, -2.3868279], [8.051703224294176, -4.676218837063681], [6.3639610306789285, -6.3639610306789285], [4.676218837063681, -8.051703224294176], [2.3868279, -9.0], [0.0, -9.0], [-2.3868279, -9.0], [-4.676218837063681, -8.051703224294176], [-6.3639610306789285, -6.3639610306789285], [-8.051703224294176, -4.676218837063681], [-9.0, -2.3868279], [-9.0, 0.0], [-9.0, 2.3868279], [-8.051703224294176, 4.676218837063681], [-6.3639610306789285, 6.3639610306789285], [-4.676218837063681, 8.051703224294176], [-2.3868279, 9.0], [0.0, 9.0]], [\"M\", \"C\", \"C\", \"C\", \"C\", \"C\", \"C\", \"C\", \"C\", \"Z\"]], \"alpha\": 1, \"xindex\": 0, \"data\": \"data06\", \"id\": \"el713214495271312pts\"}], \"id\": \"el713214414710480\", \"ydomain\": [-0.87286513505941821, 0.73484332018899401], \"collections\": [], \"xscale\": \"linear\", \"bbox\": [0.125, 0.125, 0.77500000000000002, 0.77500000000000002]}], \"height\": 480.0, \"width\": 1120.0, \"plugins\": [{\"type\": \"reset\"}, {\"enabled\": false, \"button\": true, \"type\": \"zoom\"}, {\"enabled\": false, \"button\": true, \"type\": \"boxzoom\"}, {\"voffset\": 10, \"labels\": [\"The Greatest Showman\", \"Thor: Ragnarok\", \"Star Wars: Episode VIII - The Last Jedi\", \"Justice League\", \"A Series of Unfortunate Events\", \"Murder on the Orient Express\", \"Downsizing\", \"Call Me by Your Name\", \"The Good Fight\", \"The Punisher\", \"Kodachrome\", \"Dunkirk\", \"You Were Never Really Here\", \"Dark\", \"Young Sheldon\", \"Beauty and the Beast\", \"The Orville\", \"Logan Lucky\", \"Father Figures\", \"John Wick: Chapter 2\", \"Bright\", \"Britannia\", \"The Gifted\", \"The Sinner\", \"The Hitman's Bodyguard\"], \"type\": \"htmltooltip\", \"id\": \"el713214507221392pts\", \"hoffset\": 10}, {\"type\": \"toptoolbar\"}, {\"voffset\": 10, \"labels\": [\"I Kill Giants\", \"Pitch Perfect 3\", \"La casa de papel\", \"Molly's Game\", \"Wonder Woman\", \"Get Out\", \"Transformers: The Last Knight\", \"Logan\", \"Mother!\", \"King Arthur: Legend of the Sword\", \"Godless\", \"Iron Fist\", \"Runaways\", \"Going in Style\", \"Tabula Rasa\", \"Geostorm\"], \"type\": \"htmltooltip\", \"id\": \"el713214492286480pts\", \"hoffset\": 10}, {\"type\": \"toptoolbar\"}, {\"voffset\": 10, \"labels\": [\"Santa Clarita Diet\", \"The Shape of Water\", \"All the Money in the World\", \"Three Billboards Outside Ebbing, Missouri\", \"The Handmaid's Tale\", \"Spider-Man: Homecoming\", \"Darkest Hour\", \"Ver\\u00f3nica\", \"Paddington 2\", \"The Florida Project\", \"Ozark\", \"Dog Years\", \"The End of the F***ing World\", \"Alien: Covenant\", \"The Beguiled\", \"Taboo\", \"Pirates of the Caribbean: Dead Men Tell No Tales\", \"A.P. Bio\", \"Kong: Skull Island\", \"Jamestown\", \"Only the Brave\"], \"type\": \"htmltooltip\", \"id\": \"el713214492286416pts\", \"hoffset\": 10}, {\"type\": \"toptoolbar\"}, {\"voffset\": 10, \"labels\": [\"Ferdinand\", \"13 Reasons Why\", \"Blade Runner 2049\", \"Phantom Thread\", \"SEAL Team\", \"Star Trek: Discovery\", \"Power Rangers\", \"Baywatch\", \"The Killing of a Sacred Deer\", \"American Gods\", \"The Ritual\", \"The Square\"], \"type\": \"htmltooltip\", \"id\": \"el713214508117648pts\", \"hoffset\": 10}, {\"type\": \"toptoolbar\"}, {\"voffset\": 10, \"labels\": [\"Jumanji: Welcome to the Jungle\", \"Coco\", \"The Good Doctor\", \"I, Tonya\", \"Counterpart\", \"Atomic Blonde\", \"Wonder\", \"Lady Bird\", \"It\", \"Guardians of the Galaxy Vol. 2\", \"Roxanne Roxanne\", \"The Death of Stalin\", \"Wind River\", \"Legion\", \"The Disaster Artist\", \"Baby Driver\", \"Big Little Lies\", \"Mindhunter\", \"Kingsman: The Golden Circle\", \"Valerian and the City of a Thousand Planets\", \"Dynasty\", \"Chappaquiddick\", \"The Post\", \"Hostiles\", \"Daddy's Home 2\", \"Suburbicon\"], \"type\": \"htmltooltip\", \"id\": \"el713214492300112pts\", \"hoffset\": 10}, {\"type\": \"toptoolbar\"}], \"data\": {\"data06\": [[0.7544462845622121, 0.9534050179211467, 0.9005376344086019, 0.8476702508960573, 0.7948028673835125, 0.7419354838709676]], \"data07\": [[0.7329409082181261, 0.7069892473118278], [0.9923195084485409, 0.7069892473118278], [0.9923195084485409, 0.9820788530465947], [0.7329409082181261, 0.9820788530465947]], \"data04\": [[0.1736919198638196, 0.1234407006023813], [0.2436200916873072, -0.52768788455603], [0.13009718295467684, 0.23244414544634479], [-0.2928355971095221, 0.1410862801738957], [0.2729425668785151, 0.5523186653326415], [0.6008102087407622, 0.2578347793177926], [0.4436367708037022, 0.007013134554397783], [0.38232604623998834, 0.21124574052826142], [-0.06398767209590858, 0.30925093666096787], [0.07170718482621508, 0.3712291993168509], [0.1326513395259823, 0.5102551149187002], [0.6943141196780926, 0.4232906852746088]], \"data05\": [[-0.5034099241697152, 0.20117440814572163], [-0.3122841605732964, -0.36082579927740477], [0.6732763580880431, -0.27648353304045925], [-0.2864047879057714, -0.2599437693543846], [-0.47932205769910136, 0.3065848559866677], [-0.5328220577910332, -0.11189041359068927], [-0.5353066259528617, -0.17685700164882895], [-0.5148724207407983, -0.28193896798818296], [-0.21232325722145295, -0.26291066068450664], [-0.08411054017399003, -0.5656246168976516], [-0.23738808164992062, -0.12857845412036972], [-0.30396772864243843, -0.11688021275957738], [-0.39145402442730076, 0.25078976409695897], [-0.3601050758016082, -0.23456779640348743], [-0.6312605198668397, -0.20462960737657124], [-0.14289681368019266, -0.4211745119910764], [-0.43466823666720383, 0.012041911802577467], [0.04326892852895822, -0.6212236984677526], [-0.4160691386675823, -0.18094438707490731], [-0.4567010728781656, -0.31711459900915645], [-0.3409773119787017, -0.05374075457430377], [0.6912291824631079, -0.4260362713462507], [-0.47524120604146647, -0.7250909121315343], [-0.008022666884160043, 0.6139117554113885], [0.44137073808594784, -0.44846145757731426], [0.5698308072592746, -0.554872540388361]], \"data02\": [[-0.4260269635546792, 0.07630538819013696], [-0.008120873672254636, 0.42996769799080015], [0.27451237304091175, 0.3498169741969227], [-0.012438294601369665, 0.23576784409808307], [0.024857966587026846, -0.4119476659489259], [0.41599149015154285, 0.08828722571338883], [-0.7758646984270088, 0.37337471727810106], [0.07434875204775188, -0.03290668490233116], [-0.11277822175164781, 0.25716850335694647], [-0.10095606143230686, -0.01805984684863088], [-0.23513034172314967, 0.1575487792939255], [0.04519543287824311, 0.12515742607799688], [-0.3105104353729653, 0.4229357449774255], [0.38169581868567487, 0.019535030096965264], [-0.1388585355776826, 0.1648928503077102], [-0.057021338995832664, 0.15821541880169146]], \"data03\": [[0.210785011975699, -0.0777650280824059], [0.42349723854395377, 0.4034885315601747], [0.07117038202028804, 0.5525752835133435], [0.20265843361319044, 0.009365023300699866], [-0.11701559251562842, 0.08668644910902362], [0.2955715971287281, -0.6197591171467741], [-0.16683195881508833, 0.3361091544253937], [-0.16032732353954007, 0.5254485617633905], [0.1123318156145579, -0.30473115758334446], [-0.2270605060288298, -0.5607364098148404], [-0.28083621391657665, 0.6044816520348851], [0.23921533401971445, -0.15369257849794024], [0.7909592869513634, 0.13893046884049606], [0.6543445776907268, 0.0606146802904095], [0.5971035719438459, -0.16249802258503707], [0.29260526916654367, -0.47744560831764904], [0.4530115278101791, 0.15922950175117204], [0.4835415544944882, 0.5164262728347718], [-0.11079161306282234, -0.8273639523637084], [-0.28746791896681545, 0.33163001136677717], [-0.24640710664779936, 0.4775421108331806]], \"data01\": [[-0.5621789760064216, -0.03775837414300215], [-0.5558264828259558, 0.13082222759951814], [-0.051169110954400056, -0.03218817070552611], [-0.06586254297267381, -0.3227676016097853], [-0.42883521934284347, -0.47424348213490236], [0.2416497434649107, -0.33323175776597], [-0.060919236099971984, 0.4278570525350336], [-0.2627373281878346, -0.5140685811702042], [-0.59884496658824, 0.06404854193096232], [0.3900102419580246, -0.27012305778071666], [-0.27691933193142576, 0.2243405740260568], [-0.4380318238214921, 0.41168936987820287], [-0.0009717827327016971, -0.46688786939090937], [0.19456022864659642, -0.20512698461221227], [0.07496661937468738, -0.15606599987022196], [0.20488650119637136, 0.3913396819950895], [-0.09778623783820029, 0.6232611321145621], [0.32264085104932017, 0.2874814081206258], [0.4039745338594567, 0.6893421374932842], [0.3627453989663955, -0.14544451237180078], [0.4601236477486721, -0.2709431308086578], [-0.04736264523665594, -0.21998918438950787], [0.09928783814039419, 0.30561989842625575], [0.0971444266434291, -0.7579873708940535], [0.7781597507227644, -0.03000540369570065]]}, \"id\": \"el713214414596112\"});\n",
       "            })\n",
       "         });\n",
       "}\n",
       "</script>"
      ],
      "text/plain": [
       "<IPython.core.display.HTML object>"
      ]
     },
     "execution_count": 56,
     "metadata": {},
     "output_type": "execute_result"
    }
   ],
   "source": [
    "#create data frame that has the result of the MDS plus the cluster numbers and titles\n",
    "df = pd.DataFrame(dict(x=xs, y=ys, label=clusters, title=titles)) \n",
    "\n",
    "#group by cluster\n",
    "groups = df.groupby('label')\n",
    "\n",
    "#define custom css to format the font and to remove the axis labeling\n",
    "css = \"\"\"\n",
    "text.mpld3-text, div.mpld3-tooltip {\n",
    "  font-family:Arial, Helvetica, sans-serif;\n",
    "}\n",
    "\n",
    "g.mpld3-xaxis, g.mpld3-yaxis {\n",
    "display: none; }\n",
    "\"\"\"\n",
    "\n",
    "# Plot \n",
    "fig, ax = plt.subplots(figsize=(14,6)) #set plot size\n",
    "ax.margins(0.03) # Optional, just adds 5% padding to the autoscaling\n",
    "\n",
    "#iterate through groups to layer the plot\n",
    "#note that I use the cluster_name and cluster_color dicts with the 'name' lookup to return the appropriate color/label\n",
    "for name, group in groups:\n",
    "    points = ax.plot(group.x, group.y, marker='o', linestyle='', ms=18, label=cluster_names[name], mec='none', color=cluster_colors[name])\n",
    "    ax.set_aspect('auto')\n",
    "    labels = [i for i in group.title]\n",
    "    \n",
    "    #set tooltip using points, labels and the already defined 'css'\n",
    "    tooltip = mpld3.plugins.PointHTMLTooltip(points[0], labels,\n",
    "                                       voffset=10, hoffset=10, css=css)\n",
    "    #connect tooltip to fig\n",
    "    mpld3.plugins.connect(fig, tooltip, TopToolbar())    \n",
    "    \n",
    "    #set tick marks as blank\n",
    "    ax.axes.get_xaxis().set_ticks([])\n",
    "    ax.axes.get_yaxis().set_ticks([])\n",
    "    \n",
    "    #set axis as blank\n",
    "    ax.axes.get_xaxis().set_visible(False)\n",
    "    ax.axes.get_yaxis().set_visible(False)\n",
    "\n",
    "    \n",
    "ax.legend(numpoints=1) #show legend with only one dot\n",
    "\n",
    "mpld3.display() #show the plot\n",
    "\n",
    "#uncomment the below to export to html\n",
    "#html = mpld3.fig_to_html(fig)\n",
    "#print(html)"
   ]
  },
  {
   "cell_type": "markdown",
   "metadata": {},
   "source": [
    "# Hierarchical document clustering"
   ]
  },
  {
   "cell_type": "code",
   "execution_count": 57,
   "metadata": {
    "collapsed": false
   },
   "outputs": [
    {
     "data": {
      "image/png": "[encoded data removed]",
      "text/plain": [
       "<matplotlib.figure.Figure at 0x10be88a10>"
      ]
     },
     "metadata": {},
     "output_type": "display_data"
    }
   ],
   "source": [
    "from scipy.cluster.hierarchy import ward, dendrogram\n",
    "\n",
    "linkage_matrix = ward(dist) #define the linkage_matrix using ward clustering pre-computed distances\n",
    "\n",
    "fig, ax = plt.subplots(figsize=(15, 20)) # set size\n",
    "ax = dendrogram(linkage_matrix, orientation=\"right\", labels=titles);\n",
    "\n",
    "plt.tick_params(\\\n",
    "    axis= 'x',          # changes apply to the x-axis\n",
    "    which='both',      # both major and minor ticks are affected\n",
    "    bottom='off',      # ticks along the bottom edge are off\n",
    "    top='off',         # ticks along the top edge are off\n",
    "    labelbottom='off')\n",
    "\n",
    "plt.tight_layout() #show plot with tight layout\n",
    "\n",
    "#uncomment below to save figure\n",
    "plt.savefig('ward_clusters.png', dpi=200) #save figure as ward_clusters"
   ]
  },
  {
   "cell_type": "code",
   "execution_count": 58,
   "metadata": {
    "collapsed": false
   },
   "outputs": [],
   "source": [
    "plt.close()"
   ]
  },
  {
   "cell_type": "markdown",
   "metadata": {},
   "source": [
    "# Latent Dirichlet Allocation"
   ]
  },
  {
   "cell_type": "code",
   "execution_count": 59,
   "metadata": {
    "collapsed": false
   },
   "outputs": [],
   "source": [
    "#strip any proper names from a text...unfortunately right now this is yanking the first word from a sentence too.\n",
    "import string\n",
    "def strip_proppers(text):\n",
    "    # first tokenize by sentence, then by word to ensure that punctuation is caught as it's own token\n",
    "    tokens = [word for sent in nltk.sent_tokenize(text) for word in nltk.word_tokenize(sent) if word.islower()]\n",
    "    return \"\".join([\" \"+i if not i.startswith(\"'\") and i not in string.punctuation else i for i in tokens]).strip()"
   ]
  },
  {
   "cell_type": "code",
   "execution_count": 60,
   "metadata": {
    "collapsed": false
   },
   "outputs": [],
   "source": [
    "#strip any proper nouns (NNP) or plural proper nouns (NNPS) from a text\n",
    "from nltk.tag import pos_tag\n",
    "\n",
    "def strip_proppers_POS(text):\n",
    "    tagged = pos_tag(text.split()) #use NLTK's part of speech tagger\n",
    "    non_propernouns = [word for word,pos in tagged if pos != 'NNP' and pos != 'NNPS']\n",
    "    return non_propernouns"
   ]
  },
  {
   "cell_type": "code",
   "execution_count": 61,
   "metadata": {
    "collapsed": false
   },
   "outputs": [
    {
     "name": "stdout",
     "output_type": "stream",
     "text": [
      "CPU times: user 2.88 s, sys: 19.5 ms, total: 2.9 s\n",
      "Wall time: 2.91 s\n",
      "CPU times: user 357 ms, sys: 3.47 ms, total: 360 ms\n",
      "Wall time: 366 ms\n"
     ]
    },
    {
     "name": "stderr",
     "output_type": "stream",
     "text": [
      "/Users/karthikub/.virtualenvs/cluster/lib/python2.7/site-packages/numpy/lib/utils.py:95: DeprecationWarning: `scipy.sparse.sparsetools` is deprecated!\n",
      "scipy.sparse.sparsetools is a private module for scipy.sparse, and should not be used.\n",
      "  warnings.warn(depdoc, DeprecationWarning)\n",
      "/Users/karthikub/.virtualenvs/cluster/lib/python2.7/site-packages/scipy/lib/_util.py:67: DeprecationWarning: Module scipy.linalg.blas.fblas is deprecated, use scipy.linalg.blas instead\n",
      "  DeprecationWarning)\n",
      "/Users/karthikub/.virtualenvs/cluster/lib/python2.7/site-packages/scipy/lib/_util.py:67: DeprecationWarning: Module scipy.linalg.blas.fblas is deprecated, use scipy.linalg.blas instead\n",
      "  DeprecationWarning)\n",
      "/Users/karthikub/.virtualenvs/cluster/lib/python2.7/site-packages/scipy/lib/_util.py:67: DeprecationWarning: Module scipy.linalg.blas.fblas is deprecated, use scipy.linalg.blas instead\n",
      "  DeprecationWarning)\n",
      "/Users/karthikub/.virtualenvs/cluster/lib/python2.7/site-packages/scipy/lib/_util.py:67: DeprecationWarning: Module scipy.linalg.blas.fblas is deprecated, use scipy.linalg.blas instead\n",
      "  DeprecationWarning)\n",
      "/Users/karthikub/.virtualenvs/cluster/lib/python2.7/site-packages/scipy/lib/_util.py:67: DeprecationWarning: Module scipy.linalg.blas.fblas is deprecated, use scipy.linalg.blas instead\n",
      "  DeprecationWarning)\n",
      "/Users/karthikub/.virtualenvs/cluster/lib/python2.7/site-packages/scipy/lib/_util.py:67: DeprecationWarning: Module scipy.linalg.blas.fblas is deprecated, use scipy.linalg.blas instead\n",
      "  DeprecationWarning)\n",
      "/Users/karthikub/.virtualenvs/cluster/lib/python2.7/site-packages/scipy/lib/_util.py:67: DeprecationWarning: Module scipy.linalg.blas.fblas is deprecated, use scipy.linalg.blas instead\n",
      "  DeprecationWarning)\n",
      "/Users/karthikub/.virtualenvs/cluster/lib/python2.7/site-packages/scipy/lib/_util.py:67: DeprecationWarning: Module scipy.linalg.blas.fblas is deprecated, use scipy.linalg.blas instead\n",
      "  DeprecationWarning)\n",
      "/Users/karthikub/.virtualenvs/cluster/lib/python2.7/site-packages/scipy/lib/_util.py:67: DeprecationWarning: Module scipy.linalg.blas.fblas is deprecated, use scipy.linalg.blas instead\n",
      "  DeprecationWarning)\n",
      "/Users/karthikub/.virtualenvs/cluster/lib/python2.7/site-packages/scipy/lib/_util.py:67: DeprecationWarning: Module scipy.linalg.blas.fblas is deprecated, use scipy.linalg.blas instead\n",
      "  DeprecationWarning)\n",
      "/Users/karthikub/.virtualenvs/cluster/lib/python2.7/site-packages/scipy/lib/_util.py:67: DeprecationWarning: Module scipy.linalg.blas.fblas is deprecated, use scipy.linalg.blas instead\n",
      "  DeprecationWarning)\n",
      "/Users/karthikub/.virtualenvs/cluster/lib/python2.7/site-packages/scipy/lib/_util.py:67: DeprecationWarning: Module scipy.linalg.blas.fblas is deprecated, use scipy.linalg.blas instead\n",
      "  DeprecationWarning)\n"
     ]
    }
   ],
   "source": [
    "#Latent Dirichlet Allocation implementation with Gensim\n",
    "\n",
    "from gensim import corpora, models, similarities \n",
    "\n",
    "#remove proper names\n",
    "preprocess = [strip_proppers(doc) for doc in synopses]\n",
    "\n",
    "%time tokenized_text = [tokenize_and_stem(text) for text in preprocess]\n",
    "\n",
    "%time texts = [[word for word in text if word not in stopwords] for text in tokenized_text]"
   ]
  },
  {
   "cell_type": "code",
   "execution_count": 35,
   "metadata": {
    "collapsed": false
   },
   "outputs": [
    {
     "name": "stdout",
     "output_type": "stream",
     "text": [
      "1839\n"
     ]
    }
   ],
   "source": [
    "#print(len([word for word in texts[0] if word not in stopwords]))\n",
    "print(len(texts[0]))"
   ]
  },
  {
   "cell_type": "code",
   "execution_count": 36,
   "metadata": {
    "collapsed": false
   },
   "outputs": [],
   "source": [
    "dictionary = corpora.Dictionary(texts)"
   ]
  },
  {
   "cell_type": "code",
   "execution_count": 37,
   "metadata": {
    "collapsed": false
   },
   "outputs": [],
   "source": [
    "dictionary.filter_extremes(no_below=1, no_above=0.8)"
   ]
  },
  {
   "cell_type": "code",
   "execution_count": 38,
   "metadata": {
    "collapsed": false
   },
   "outputs": [],
   "source": [
    "corpus = [dictionary.doc2bow(text) for text in texts]"
   ]
  },
  {
   "cell_type": "code",
   "execution_count": 39,
   "metadata": {
    "collapsed": false
   },
   "outputs": [
    {
     "data": {
      "text/plain": [
       "100"
      ]
     },
     "execution_count": 39,
     "metadata": {},
     "output_type": "execute_result"
    }
   ],
   "source": [
    "len(corpus)"
   ]
  },
  {
   "cell_type": "code",
   "execution_count": null,
   "metadata": {
    "collapsed": false
   },
   "outputs": [],
   "source": [
    "%time lda = models.LdaModel(corpus, num_topics=5, id2word=dictionary, update_every=5, chunksize=10000, passes=100)"
   ]
  },
  {
   "cell_type": "code",
   "execution_count": null,
   "metadata": {
    "collapsed": false
   },
   "outputs": [],
   "source": [
    "print(lda[corpus[0]])"
   ]
  },
  {
   "cell_type": "code",
   "execution_count": 141,
   "metadata": {
    "collapsed": false
   },
   "outputs": [],
   "source": [
    "topics = lda.print_topics(5, num_words=20)"
   ]
  },
  {
   "cell_type": "code",
   "execution_count": 143,
   "metadata": {
    "collapsed": false
   },
   "outputs": [],
   "source": [
    "topics_matrix = lda.show_topics(formatted=False, num_words=20)"
   ]
  },
  {
   "cell_type": "code",
   "execution_count": 144,
   "metadata": {
    "collapsed": false
   },
   "outputs": [],
   "source": [
    "topics_matrix = np.array(topics_matrix)"
   ]
  },
  {
   "cell_type": "code",
   "execution_count": 145,
   "metadata": {
    "collapsed": false
   },
   "outputs": [
    {
     "data": {
      "text/plain": [
       "(5, 20, 2)"
      ]
     },
     "execution_count": 145,
     "metadata": {},
     "output_type": "execute_result"
    }
   ],
   "source": [
    "topics_matrix.shape"
   ]
  },
  {
   "cell_type": "code",
   "execution_count": 146,
   "metadata": {
    "collapsed": false
   },
   "outputs": [],
   "source": [
    "topic_words = topics_matrix[:,:,1]"
   ]
  },
  {
   "cell_type": "code",
   "execution_count": 147,
   "metadata": {
    "collapsed": false
   },
   "outputs": [
    {
     "name": "stdout",
     "output_type": "stream",
     "text": [
      "['famili', 'murder', 'prison', 'work', 'kill', 'life', 'guard', 'way', \"n't\", 'two', 'meet', 'would', 'death', 'say', 'll', 'vote', 'becom', 'ask', 'guilti', 'peopl']\n",
      "\n",
      "['love', 'marri', 'go', 'home', 'friend', 'show', 'day', 'father', 'meet', 'want', \"n't\", 'night', 'doe', 'apart', 'famili', 'work', 'film', 'first', 'sing', 'come']\n",
      "\n",
      "['kill', 'meet', 'arriv', 'first', 'two', 'order', 'escap', 'friend', 'say', 'famili', 'ask', 'call', 'attempt', 'father', 'later', 'refus', \"n't\", 'offer', 'name', 'away']\n",
      "\n",
      "['kill', 'soldier', 'men', 'order', 'shark', 'command', 'attack', 'water', 'war', 'offic', 'arriv', 'boat', 'die', 'wound', 'two', 'attempt', 'villag', 'fire', 'battl', 'shoot']\n",
      "\n",
      "['car', 'ask', 'polic', 'home', \"n't\", 'go', 'say', 'kill', 'run', 'hous', 'goe', 'two', 'friend', 'day', 'call', 'come', 'drive', 'meet', 'doe', 'away']\n",
      "\n"
     ]
    }
   ],
   "source": [
    "for i in topic_words:\n",
    "    print([str(word) for word in i])\n",
    "    print()"
   ]
  }
 ],
 "metadata": {
  "kernelspec": {
   "display_name": "Python 2",
   "language": "python",
   "name": "python2"
  },
  "language_info": {
   "codemirror_mode": {
    "name": "ipython",
    "version": 2
   },
   "file_extension": ".py",
   "mimetype": "text/x-python",
   "name": "python",
   "nbconvert_exporter": "python",
   "pygments_lexer": "ipython2",
   "version": "2.7.10"
  }
 },
 "nbformat": 4,
 "nbformat_minor": 0
}
